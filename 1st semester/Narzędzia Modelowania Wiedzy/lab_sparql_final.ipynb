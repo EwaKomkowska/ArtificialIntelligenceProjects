{
  "nbformat": 4,
  "nbformat_minor": 0,
  "metadata": {
    "colab": {
      "name": "lab_sparql_final.ipynb",
      "provenance": [],
      "collapsed_sections": [
        "N68VFs4BYovC",
        "_A3X32qoYowc",
        "NZk7uCU7YowD"
      ],
      "toc_visible": true
    },
    "kernelspec": {
      "display_name": "Python 3",
      "language": "python",
      "name": "python3"
    },
    "language_info": {
      "codemirror_mode": {
        "name": "ipython",
        "version": 3
      },
      "file_extension": ".py",
      "mimetype": "text/x-python",
      "name": "python",
      "nbconvert_exporter": "python",
      "pygments_lexer": "ipython3",
      "version": "3.8.0"
    }
  },
  "cells": [
    {
      "cell_type": "markdown",
      "metadata": {
        "id": "N68VFs4BYovC"
      },
      "source": [
        "# Czym jest SPARQL"
      ]
    },
    {
      "cell_type": "markdown",
      "metadata": {
        "id": "2TC-F7vrYovF"
      },
      "source": [
        "**SPARQL** (SPARQL Protocol And RDF Query Language):\n",
        "- język zapytań do danych w formacie RDF\n",
        "- protokół (REST)"
      ]
    },
    {
      "cell_type": "markdown",
      "metadata": {
        "id": "CIK3vI5OYovI"
      },
      "source": [
        "W celu ćwiczeń użyjemy przykładowego grafu opisującego domenę miejscowości, który zawiera wybrane informacje z grafu wiedzy **DBpedia** (https://www.dbpedia.org). \n",
        "DBpedia zawiera dane z Wikipedii ustrukturyzowane do formatu RDF."
      ]
    },
    {
      "cell_type": "code",
      "metadata": {
        "colab": {
          "base_uri": "https://localhost:8080/"
        },
        "id": "5nDf0gxzYovK",
        "outputId": "a965b8ff-b897-4303-f551-2fbc5d25355b"
      },
      "source": [
        "!pip install rdflib\n",
        "\n",
        "from rdflib import Graph\n",
        "g = Graph()\n",
        "\n",
        "g.parse(\"miejscowosci3.ttl\", format=\"ttl\")\n",
        "print(\"Graf zawiera %s trójek.\" % len(g))"
      ],
      "execution_count": 1,
      "outputs": [
        {
          "output_type": "stream",
          "text": [
            "Requirement already satisfied: rdflib in /usr/local/lib/python3.7/dist-packages (5.0.0)\n",
            "Requirement already satisfied: six in /usr/local/lib/python3.7/dist-packages (from rdflib) (1.15.0)\n",
            "Requirement already satisfied: isodate in /usr/local/lib/python3.7/dist-packages (from rdflib) (0.6.0)\n",
            "Requirement already satisfied: pyparsing in /usr/local/lib/python3.7/dist-packages (from rdflib) (2.4.7)\n",
            "Graf zawiera 156 trójek.\n"
          ],
          "name": "stdout"
        }
      ]
    },
    {
      "cell_type": "markdown",
      "metadata": {
        "id": "c8UfToCEYovh"
      },
      "source": [
        "W rdflib zapytania SPARQL mogą być wydawane do grafu za pomocą metody rdflib.graph.Graph.query().\n",
        "\n",
        "# Wzorce trójkowe i podstawowy wzorzec\n",
        "Główną formą zapytania w SPARQL jest zapytanie typu `SELECT`, które wygląda trochę jak zapytanie SQL. Zapytanie `SELECT` składa się z dwóch głównych elementów: nagłówka z listą wybranych zmiennych i klauzuli `WHERE` do określenia wzorców grafów jakie chcemy dopasować do zapytania, a konkretniej **podstawowego wzorca grafu** (zapisanego w nawiasach klamrowych). \n",
        "\n",
        "Wynikiem zapytania `SELECT` jest tabela, w której będzie jedna kolumna dla każdej wybranej zmiennej i jeden wiersz dla każdego dopasowania do wzorca.\n",
        "\n",
        "Podstawowym elementem składowym zapytań SPARQL są **wzorce trójkowe**. Są one podobne do trójek RDF, ale możesz użyć zmiennej w dowolnej z trzech pozycji. Używamy ich aby znaleźć pasujące trójki w grafie, a zmienne działają jak symbole wieloznaczne pasujące do dowolnego węzła grafu."
      ]
    },
    {
      "cell_type": "code",
      "metadata": {
        "id": "ihvY_VwNYovj",
        "colab": {
          "base_uri": "https://localhost:8080/"
        },
        "outputId": "72a50fef-667f-4e65-f93f-45747e57f55e"
      },
      "source": [
        "qres = g.query(\n",
        "    \"\"\"PREFIX dbo: <http://dbpedia.org/ontology/>\n",
        "       \n",
        "       SELECT ?x ?y\n",
        "       WHERE {\n",
        "          ?x dbo:country ?y .\n",
        "       }\"\"\")\n",
        "\n",
        "for row in qres:\n",
        "    print(\"%s należy do kraju %s\" % row)"
      ],
      "execution_count": 2,
      "outputs": [
        {
          "output_type": "stream",
          "text": [
            "http://dbpedia.org/resource/Malbork należy do kraju http://dbpedia.org/resource/Poland\n",
            "http://dbpedia.org/resource/Tricity,_Poland należy do kraju http://dbpedia.org/resource/Poland\n",
            "http://dbpedia.org/resource/Gliwice należy do kraju http://dbpedia.org/resource/Poland\n",
            "http://dbpedia.org/resource/Poznań należy do kraju http://dbpedia.org/resource/Poland\n",
            "http://dbpedia.org/resource/Warsaw należy do kraju http://dbpedia.org/resource/Poland\n",
            "http://dbpedia.org/resource/Ogrodzieniec należy do kraju http://dbpedia.org/resource/Poland\n",
            "http://dbpedia.org/resource/Wrocław należy do kraju http://dbpedia.org/resource/Poland\n",
            "http://dbpedia.org/resource/Uchylsko należy do kraju http://dbpedia.org/resource/Poland\n",
            "http://dbpedia.org/resource/Kraków należy do kraju http://dbpedia.org/resource/Poland\n"
          ],
          "name": "stdout"
        }
      ]
    },
    {
      "cell_type": "markdown",
      "metadata": {
        "id": "4hdHbzb7Yovu"
      },
      "source": [
        "<span style=\"color:red\"> __Zadanie 1: Sformułuj proste zapytanie do grafu g (zawierające jeden wzorzec trójkowy) o encje dotyczące obiektów mających swoje lokalizacje (`dbo:location`) w Warszawie. Warszawa reprezentowana jest poprzez zasób `dbr:Warsaw`, gdzie `dbr` to prefiks związany z przestrzenią nazw <http://dbpedia.org/resource/>). Na liście wyników powinien znaleźć się m.in. zasób http://dbpedia.org/resource/Copernicus_Science_Centre.    __ </span>"
      ]
    },
    {
      "cell_type": "code",
      "metadata": {
        "id": "YouqHHDZYovw",
        "colab": {
          "base_uri": "https://localhost:8080/"
        },
        "outputId": "e09cf1fd-0db5-41a6-ce22-8bd586dd878f"
      },
      "source": [
        "qres = g.query(\"\"\"PREFIX dbr: <http://dbpedia.org/resource/>\n",
        "PREFIX dbo: <http://dbpedia.org/ontology/>\n",
        "\n",
        "SELECT ?x\n",
        "WHERE { ?x dbo:location dbr:Warsaw .\n",
        "\n",
        "}\"\"\")\n",
        "\n",
        "for row in qres:\n",
        "    print(\"%s ma lokalizację w Warszawie\" % row)"
      ],
      "execution_count": 3,
      "outputs": [
        {
          "output_type": "stream",
          "text": [
            "http://dbpedia.org/resource/Holy_Trinity_Church,_Warsaw ma lokalizację w Warszawie\n",
            "http://dbpedia.org/resource/Miodowa_Street_(Warsaw) ma lokalizację w Warszawie\n",
            "http://dbpedia.org/resource/Grochowska_Street,_Warsaw ma lokalizację w Warszawie\n",
            "http://dbpedia.org/resource/Konstanty_Zamoyski_Palace ma lokalizację w Warszawie\n",
            "http://dbpedia.org/resource/Uruski_Palace ma lokalizację w Warszawie\n",
            "http://dbpedia.org/resource/Copernicus_Science_Centre ma lokalizację w Warszawie\n"
          ],
          "name": "stdout"
        }
      ]
    },
    {
      "cell_type": "markdown",
      "metadata": {
        "id": "fvhaEXyeYov0"
      },
      "source": [
        "Zadajmy następnie zapytanie zawierające dwa wzorce trójek, o obiekty geograficzne, które znajdują się w konkretnych dzielnicach Warszawy:"
      ]
    },
    {
      "cell_type": "code",
      "metadata": {
        "id": "mAY_e-suYov1",
        "colab": {
          "base_uri": "https://localhost:8080/"
        },
        "outputId": "b7ee477a-1478-400f-ec72-7dcb5e02cb92"
      },
      "source": [
        "  qres = g.query(\n",
        "    \"\"\"PREFIX dbo: <http://dbpedia.org/ontology/>\n",
        "       PREFIX dbr: <http://dbpedia.org/resource/>\n",
        "       \n",
        "       select ?poi ?district\n",
        "       WHERE {\n",
        "        dbr:Warsaw dbo:subdivision ?district   .\n",
        "        ?poi dbo:location ?district .\n",
        "       }\n",
        "       \"\"\")\n",
        "\n",
        "for row in qres:\n",
        "    print(\"%s leży w %s\" % row)"
      ],
      "execution_count": 4,
      "outputs": [
        {
          "output_type": "stream",
          "text": [
            "http://dbpedia.org/resource/Warsaw_Uprising_Museum leży w http://dbpedia.org/resource/Wola\n",
            "http://dbpedia.org/resource/Electio_Viritim_Monument leży w http://dbpedia.org/resource/Wola\n",
            "http://dbpedia.org/resource/Warsaw_Chopin_Airport leży w http://dbpedia.org/resource/Włochy\n",
            "http://dbpedia.org/resource/Arena_COS_Torwar leży w http://dbpedia.org/resource/Śródmieście,_Warsaw\n",
            "http://dbpedia.org/resource/Castle_Square,_Warsaw leży w http://dbpedia.org/resource/Śródmieście,_Warsaw\n",
            "http://dbpedia.org/resource/Chancellery_of_the_Prime_Minister_of_Poland leży w http://dbpedia.org/resource/Śródmieście,_Warsaw\n",
            "http://dbpedia.org/resource/Żerań_Power_Station leży w http://dbpedia.org/resource/Białołęka\n",
            "http://dbpedia.org/resource/Grochowska_Street,_Warsaw leży w http://dbpedia.org/resource/Praga_Południe\n",
            "http://dbpedia.org/resource/Korkowa_Street,_Warsaw leży w http://dbpedia.org/resource/Wawer\n",
            "http://dbpedia.org/resource/Warsaw_Icon_Museum leży w http://dbpedia.org/resource/Ochota\n",
            "http://dbpedia.org/resource/Museum_of_John_Paul_II_and_Primate_Wyszyński leży w http://dbpedia.org/resource/Wilanów\n"
          ],
          "name": "stdout"
        }
      ]
    },
    {
      "cell_type": "markdown",
      "metadata": {
        "id": "MvTdUEAqYov9"
      },
      "source": [
        "<span style=\"color:red\"> __Zadanie 2: Sformułuj do grafu g zapytanie (zawierające dwa wzorce trójkowe) o typy obiektów geograficznych, które znajdują się w Warszawie (wykorzystaj własności `dbo:location` i `rdf:type`). Na liście wyników powinna znaleźć się m.in. para: (http://dbpedia.org/resource/Copernicus_Science_Centre, http://dbpedia.org/ontology/Museum) __ </span>"
      ]
    },
    {
      "cell_type": "code",
      "metadata": {
        "id": "QWf26cRAYov_",
        "colab": {
          "base_uri": "https://localhost:8080/"
        },
        "outputId": "1ac820ba-2d8a-4096-838a-bc4b6291bff2"
      },
      "source": [
        "  qres = g.query(\n",
        "    \"\"\"PREFIX dbo: <http://dbpedia.org/ontology/>\n",
        "       PREFIX dbr: <http://dbpedia.org/resource/>\n",
        "       \n",
        "       select ?poi ?type\n",
        "       WHERE {\n",
        "        ?poi dbo:location dbr:Warsaw .\n",
        "        ?poi rdf:type ?type   .\n",
        "       }\n",
        "       \"\"\")\n",
        "  \n",
        "for row in qres:\n",
        "    print(\"%s jest typu %s\" % row)"
      ],
      "execution_count": 5,
      "outputs": [
        {
          "output_type": "stream",
          "text": [
            "http://dbpedia.org/resource/Holy_Trinity_Church,_Warsaw jest typu http://dbpedia.org/ontology/ArchitecturalStructure\n",
            "http://dbpedia.org/resource/Holy_Trinity_Church,_Warsaw jest typu http://dbpedia.org/ontology/Location\n",
            "http://dbpedia.org/resource/Holy_Trinity_Church,_Warsaw jest typu http://www.w3.org/2002/07/owl#NamedIndividual\n",
            "http://dbpedia.org/resource/Holy_Trinity_Church,_Warsaw jest typu http://dbpedia.org/ontology/Place\n",
            "http://dbpedia.org/resource/Holy_Trinity_Church,_Warsaw jest typu http://www.w3.org/2003/01/geo/wgs84_pos#SpatialThing\n",
            "http://dbpedia.org/resource/Holy_Trinity_Church,_Warsaw jest typu http://dbpedia.org/ontology/Building\n",
            "http://dbpedia.org/resource/Miodowa_Street_(Warsaw) jest typu http://dbpedia.org/ontology/RouteOfTransportation\n",
            "http://dbpedia.org/resource/Miodowa_Street_(Warsaw) jest typu http://dbpedia.org/ontology/Location\n",
            "http://dbpedia.org/resource/Miodowa_Street_(Warsaw) jest typu http://www.w3.org/2002/07/owl#NamedIndividual\n",
            "http://dbpedia.org/resource/Miodowa_Street_(Warsaw) jest typu http://dbpedia.org/ontology/Place\n",
            "http://dbpedia.org/resource/Miodowa_Street_(Warsaw) jest typu http://dbpedia.org/ontology/ArchitecturalStructure\n",
            "http://dbpedia.org/resource/Miodowa_Street_(Warsaw) jest typu http://www.w3.org/2003/01/geo/wgs84_pos#SpatialThing\n",
            "http://dbpedia.org/resource/Miodowa_Street_(Warsaw) jest typu http://dbpedia.org/ontology/Road\n",
            "http://dbpedia.org/resource/Miodowa_Street_(Warsaw) jest typu http://dbpedia.org/ontology/Infrastructure\n",
            "http://dbpedia.org/resource/Grochowska_Street,_Warsaw jest typu http://dbpedia.org/ontology/Infrastructure\n",
            "http://dbpedia.org/resource/Grochowska_Street,_Warsaw jest typu http://www.w3.org/2003/01/geo/wgs84_pos#SpatialThing\n",
            "http://dbpedia.org/resource/Grochowska_Street,_Warsaw jest typu http://dbpedia.org/ontology/ArchitecturalStructure\n",
            "http://dbpedia.org/resource/Grochowska_Street,_Warsaw jest typu http://www.w3.org/2002/07/owl#NamedIndividual\n",
            "http://dbpedia.org/resource/Grochowska_Street,_Warsaw jest typu http://dbpedia.org/ontology/Place\n",
            "http://dbpedia.org/resource/Grochowska_Street,_Warsaw jest typu http://dbpedia.org/ontology/Road\n",
            "http://dbpedia.org/resource/Grochowska_Street,_Warsaw jest typu http://dbpedia.org/ontology/RouteOfTransportation\n",
            "http://dbpedia.org/resource/Grochowska_Street,_Warsaw jest typu http://dbpedia.org/ontology/Location\n",
            "http://dbpedia.org/resource/Konstanty_Zamoyski_Palace jest typu http://www.w3.org/2002/07/owl#Thing\n",
            "http://dbpedia.org/resource/Konstanty_Zamoyski_Palace jest typu http://www.w3.org/2003/01/geo/wgs84_pos#SpatialThing\n",
            "http://dbpedia.org/resource/Konstanty_Zamoyski_Palace jest typu http://dbpedia.org/ontology/Location\n",
            "http://dbpedia.org/resource/Konstanty_Zamoyski_Palace jest typu http://www.w3.org/2002/07/owl#NamedIndividual\n",
            "http://dbpedia.org/resource/Konstanty_Zamoyski_Palace jest typu http://dbpedia.org/ontology/Place\n",
            "http://dbpedia.org/resource/Konstanty_Zamoyski_Palace jest typu http://dbpedia.org/ontology/HistoricPlace\n",
            "http://dbpedia.org/resource/Uruski_Palace jest typu http://dbpedia.org/ontology/HistoricPlace\n",
            "http://dbpedia.org/resource/Uruski_Palace jest typu http://www.w3.org/2003/01/geo/wgs84_pos#SpatialThing\n",
            "http://dbpedia.org/resource/Uruski_Palace jest typu http://www.w3.org/2002/07/owl#NamedIndividual\n",
            "http://dbpedia.org/resource/Uruski_Palace jest typu http://dbpedia.org/ontology/Location\n",
            "http://dbpedia.org/resource/Uruski_Palace jest typu http://dbpedia.org/ontology/Place\n",
            "http://dbpedia.org/resource/Copernicus_Science_Centre jest typu http://dbpedia.org/ontology/Building\n",
            "http://dbpedia.org/resource/Copernicus_Science_Centre jest typu http://dbpedia.org/ontology/Location\n",
            "http://dbpedia.org/resource/Copernicus_Science_Centre jest typu http://www.w3.org/2002/07/owl#NamedIndividual\n",
            "http://dbpedia.org/resource/Copernicus_Science_Centre jest typu http://dbpedia.org/ontology/ArchitecturalStructure\n",
            "http://dbpedia.org/resource/Copernicus_Science_Centre jest typu http://www.w3.org/2003/01/geo/wgs84_pos#SpatialThing\n",
            "http://dbpedia.org/resource/Copernicus_Science_Centre jest typu http://dbpedia.org/ontology/Place\n",
            "http://dbpedia.org/resource/Copernicus_Science_Centre jest typu http://dbpedia.org/ontology/Museum\n"
          ],
          "name": "stdout"
        }
      ]
    },
    {
      "cell_type": "markdown",
      "metadata": {
        "id": "9k3Mjp9hwGG9"
      },
      "source": [
        "# Modyfikatory zapytania\n",
        "\n",
        "Jeżeli chcielibyśmy żeby wyniki zapytania były posortowane wg wartości wybranej zmiennej, możemy dodać klazulę `ORDER BY`:"
      ]
    },
    {
      "cell_type": "code",
      "metadata": {
        "id": "8t0_D-3VwSi_",
        "colab": {
          "base_uri": "https://localhost:8080/"
        },
        "outputId": "c6063071-855e-4ed3-e51a-6e493bac9611"
      },
      "source": [
        "  qres = g.query(\n",
        "    \"\"\"PREFIX dbo: <http://dbpedia.org/ontology/>\n",
        "       PREFIX dbr: <http://dbpedia.org/resource/>\n",
        "       PREFIX rdfs: <http://www.w3.org/2000/01/rdf-schema#>\n",
        "       \n",
        "       select ?poi ?district \n",
        "       WHERE {\n",
        "        dbr:Warsaw dbo:subdivision ?district   .\n",
        "        ?poi dbo:location ?district .\n",
        "       }\n",
        "       ORDER BY ?poi\n",
        "       \"\"\")\n",
        "\n",
        "for row in qres:\n",
        "    print(\"%s leży w %s\" % row)"
      ],
      "execution_count": 6,
      "outputs": [
        {
          "output_type": "stream",
          "text": [
            "http://dbpedia.org/resource/Arena_COS_Torwar leży w http://dbpedia.org/resource/Śródmieście,_Warsaw\n",
            "http://dbpedia.org/resource/Castle_Square,_Warsaw leży w http://dbpedia.org/resource/Śródmieście,_Warsaw\n",
            "http://dbpedia.org/resource/Chancellery_of_the_Prime_Minister_of_Poland leży w http://dbpedia.org/resource/Śródmieście,_Warsaw\n",
            "http://dbpedia.org/resource/Electio_Viritim_Monument leży w http://dbpedia.org/resource/Wola\n",
            "http://dbpedia.org/resource/Grochowska_Street,_Warsaw leży w http://dbpedia.org/resource/Praga_Południe\n",
            "http://dbpedia.org/resource/Korkowa_Street,_Warsaw leży w http://dbpedia.org/resource/Wawer\n",
            "http://dbpedia.org/resource/Museum_of_John_Paul_II_and_Primate_Wyszyński leży w http://dbpedia.org/resource/Wilanów\n",
            "http://dbpedia.org/resource/Warsaw_Chopin_Airport leży w http://dbpedia.org/resource/Włochy\n",
            "http://dbpedia.org/resource/Warsaw_Icon_Museum leży w http://dbpedia.org/resource/Ochota\n",
            "http://dbpedia.org/resource/Warsaw_Uprising_Museum leży w http://dbpedia.org/resource/Wola\n",
            "http://dbpedia.org/resource/Żerań_Power_Station leży w http://dbpedia.org/resource/Białołęka\n"
          ],
          "name": "stdout"
        }
      ]
    },
    {
      "cell_type": "markdown",
      "metadata": {
        "id": "Idl74ENuxrRI"
      },
      "source": [
        "Modyfikator `LIMIT` pozwala nam z kolei na wyświetlenie ograniczonej liczby wyników:"
      ]
    },
    {
      "cell_type": "code",
      "metadata": {
        "id": "LCuX3iTXxfnv",
        "colab": {
          "base_uri": "https://localhost:8080/"
        },
        "outputId": "893a6752-de28-4775-ce43-e1302952ecfe"
      },
      "source": [
        "qres = g.query(\n",
        "    \"\"\"PREFIX dbo: <http://dbpedia.org/ontology/>\n",
        "       PREFIX dbr: <http://dbpedia.org/resource/>\n",
        "       PREFIX rdfs: <http://www.w3.org/2000/01/rdf-schema#>\n",
        "       \n",
        "       select ?poi ?district \n",
        "       WHERE {\n",
        "        dbr:Warsaw dbo:subdivision ?district   .\n",
        "        ?poi dbo:location ?district .\n",
        "       }\n",
        "       LIMIT 3\n",
        "       \"\"\")\n",
        "\n",
        "for row in qres:\n",
        "    print(\"%s leży w %s\" % row)"
      ],
      "execution_count": 7,
      "outputs": [
        {
          "output_type": "stream",
          "text": [
            "http://dbpedia.org/resource/Warsaw_Uprising_Museum leży w http://dbpedia.org/resource/Wola\n",
            "http://dbpedia.org/resource/Electio_Viritim_Monument leży w http://dbpedia.org/resource/Wola\n",
            "http://dbpedia.org/resource/Warsaw_Chopin_Airport leży w http://dbpedia.org/resource/Włochy\n"
          ],
          "name": "stdout"
        }
      ]
    },
    {
      "cell_type": "markdown",
      "metadata": {
        "id": "A6Cr1GJKYowN"
      },
      "source": [
        " <span style=\"color:red\"> __Zadanie 3: sformułuj do grafu g zapytanie o miasta leżące w Polsce ograniczając wyniki do 5  __ </span>"
      ]
    },
    {
      "cell_type": "code",
      "metadata": {
        "id": "6PH_EAJ6YowO",
        "colab": {
          "base_uri": "https://localhost:8080/"
        },
        "outputId": "c2c92bdb-aa3d-4f8f-aa8e-d13dd4bbeded"
      },
      "source": [
        "qres = g.query(\n",
        "    \"\"\"PREFIX dbo: <http://dbpedia.org/ontology/>\n",
        "       PREFIX dbr: <http://dbpedia.org/resource/>\n",
        "       \n",
        "       select ?city\n",
        "       WHERE {\n",
        "        ?city dbo:country dbr:Poland .\n",
        "       }\n",
        "       LIMIT 5\n",
        "       \"\"\")\n",
        "\n",
        "for row in qres:\n",
        "    print(\"%s leży w Polsce\" % row)"
      ],
      "execution_count": 8,
      "outputs": [
        {
          "output_type": "stream",
          "text": [
            "http://dbpedia.org/resource/Malbork leży w Polsce\n",
            "http://dbpedia.org/resource/Tricity,_Poland leży w Polsce\n",
            "http://dbpedia.org/resource/Gliwice leży w Polsce\n",
            "http://dbpedia.org/resource/Poznań leży w Polsce\n",
            "http://dbpedia.org/resource/Warsaw leży w Polsce\n"
          ],
          "name": "stdout"
        }
      ]
    },
    {
      "cell_type": "markdown",
      "metadata": {
        "id": "0M7pLtv5YowQ"
      },
      "source": [
        "# Klauzula FILTER"
      ]
    },
    {
      "cell_type": "markdown",
      "metadata": {
        "id": "LahUsLOwYowR"
      },
      "source": [
        "\n",
        "\n",
        "Klauzula FILTER pozwala na wykluczenie wybranych trójek z wyników zapytania. Jej ideą jest wykonanie boolowskiego testu, który ma na celu włączenie bądź też wykluczenie wyników na podstawie wartości danej zmiennej. \n",
        "\n",
        "SPARQL obsługuje wiele wbudowanych funkcji do pisania takich wyrażeń, np.:\n",
        "operatory porównania: (`=`,`!=`, `<`, `<=`, `>`, `>=`)\n",
        "operatory logiczne (`&&`, `||`, `!`)\n",
        "operatory matematyczne (`+`, `-`, `/`, `*`)  \n"
      ]
    },
    {
      "cell_type": "code",
      "metadata": {
        "id": "ihQWXb_xYowS",
        "colab": {
          "base_uri": "https://localhost:8080/"
        },
        "outputId": "aad575ca-dab4-462f-e092-5e66818c6eef"
      },
      "source": [
        "qres = g.query(\n",
        "    \"\"\"PREFIX dbo: <http://dbpedia.org/ontology/>\n",
        "       PREFIX dbr: <http://dbpedia.org/resource/>\n",
        "\n",
        "       SELECT ?settlement ?population\n",
        "       WHERE {\n",
        "        ?settlement dbo:country dbr:Poland .\n",
        "        ?settlement dbo:populationTotal ?population . FILTER (?population >= \"500000\"^^xsd:int)\n",
        "       }\"\"\")\n",
        "\n",
        "for row in qres:\n",
        "    print(\"%s ma liczbę ludności %s\" % row)"
      ],
      "execution_count": 9,
      "outputs": [
        {
          "output_type": "stream",
          "text": [
            "http://dbpedia.org/resource/Tricity,_Poland ma liczbę ludności 748986\n",
            "http://dbpedia.org/resource/Poznań ma liczbę ludności 534813\n",
            "http://dbpedia.org/resource/Warsaw ma liczbę ludności 1790658\n",
            "http://dbpedia.org/resource/Wrocław ma liczbę ludności 642869\n",
            "http://dbpedia.org/resource/Kraków ma liczbę ludności 779115\n"
          ],
          "name": "stdout"
        }
      ]
    },
    {
      "cell_type": "markdown",
      "metadata": {
        "id": "l9u4I8l6YowX"
      },
      "source": [
        "<span style=\"color:red\"> __Zadanie 4: sformułuj do grafu g zapytanie o nazwy miejscowości i ich powierznie (`dbo:areaTotal`), które mają powierzchnie większe niż 120000000 __ </span>"
      ]
    },
    {
      "cell_type": "code",
      "metadata": {
        "id": "II4mHUc2YowY",
        "colab": {
          "base_uri": "https://localhost:8080/"
        },
        "outputId": "e4124896-bb5c-4c32-e39a-5018a70ce236"
      },
      "source": [
        "qres = g.query(\n",
        "    \"\"\"PREFIX dbo: <http://dbpedia.org/ontology/>\n",
        "       PREFIX dbr: <http://dbpedia.org/resource/>\n",
        "\n",
        "       SELECT ?city ?area \n",
        "       WHERE {\n",
        "        ?city dbo:country dbr:Poland .\n",
        "        ?city dbo:areaTotal ?area . FILTER (?area >= \"120000000\"^^xsd:int)\n",
        "       }\"\"\")\n",
        "\n",
        "for row in qres:\n",
        "    print(\"%s ma powierzchnie %s\" % row)"
      ],
      "execution_count": 10,
      "outputs": [
        {
          "output_type": "stream",
          "text": [
            "http://dbpedia.org/resource/Tricity,_Poland ma powierzchnie 414810000.0\n",
            "http://dbpedia.org/resource/Gliwice ma powierzchnie 133880000.0\n",
            "http://dbpedia.org/resource/Poznań ma powierzchnie 261850000.0\n",
            "http://dbpedia.org/resource/Warsaw ma powierzchnie 517240000.0\n",
            "http://dbpedia.org/resource/Wrocław ma powierzchnie 292920000.0\n",
            "http://dbpedia.org/resource/Kraków ma powierzchnie 326800000.0\n"
          ],
          "name": "stdout"
        }
      ]
    },
    {
      "cell_type": "markdown",
      "metadata": {
        "collapsed": true,
        "id": "_A3X32qoYowc"
      },
      "source": [
        "# Klauzula OPTIONAL"
      ]
    },
    {
      "cell_type": "markdown",
      "metadata": {
        "id": "YX2fJ1mJYowd"
      },
      "source": [
        "Za pomocą klauzuli OPTIONAL możemy wyspecyfikować fragmenty zapytania, które nie muszą być dopasowane do grafu aby całe zapytanie zwróciło wynik dla danego wzorca grafu. Przykładowo, w grafie wiedzy takim jak DBpedia mogą znajdować się informacje na temat liczby ludności danej miejscowości, ale nie na temat jej powierzchni, mimo tego możemy chcieć zwrócić informacje o danej miejscowości, nawet jeśli są cząstkowe."
      ]
    },
    {
      "cell_type": "code",
      "metadata": {
        "id": "SdjvhqieYowe",
        "colab": {
          "base_uri": "https://localhost:8080/"
        },
        "outputId": "75ba04aa-e2df-4541-be5f-4d2fdb82f0d8"
      },
      "source": [
        "qres = g.query(\n",
        "    \"\"\"PREFIX dbo: <http://dbpedia.org/ontology/>\n",
        "       PREFIX dbr: <http://dbpedia.org/resource/>\n",
        "\n",
        "       SELECT ?settlement ?population\n",
        "       WHERE {\n",
        "        ?settlement dbo:country dbr:Poland .\n",
        "        OPTIONAL {?settlement dbo:populationTotal ?population . }\n",
        "       }\"\"\")\n",
        "\n",
        "for row in qres:\n",
        "    print(\"%s ma liczbę ludności %s\" % row)\n"
      ],
      "execution_count": 11,
      "outputs": [
        {
          "output_type": "stream",
          "text": [
            "http://dbpedia.org/resource/Malbork ma liczbę ludności 38723\n",
            "http://dbpedia.org/resource/Tricity,_Poland ma liczbę ludności 748986\n",
            "http://dbpedia.org/resource/Gliwice ma liczbę ludności 178603\n",
            "http://dbpedia.org/resource/Poznań ma liczbę ludności 534813\n",
            "http://dbpedia.org/resource/Warsaw ma liczbę ludności 1790658\n",
            "http://dbpedia.org/resource/Ogrodzieniec ma liczbę ludności 4282\n",
            "http://dbpedia.org/resource/Wrocław ma liczbę ludności 642869\n",
            "http://dbpedia.org/resource/Uchylsko ma liczbę ludności 338\n",
            "http://dbpedia.org/resource/Kraków ma liczbę ludności 779115\n"
          ],
          "name": "stdout"
        }
      ]
    },
    {
      "cell_type": "markdown",
      "metadata": {
        "id": "9SMCO0HRYowj"
      },
      "source": [
        "<span style=\"color:red\"> __Zadanie 5: Sformułuj zapytanie o nazwy miejscowości z opcjonalną informacją o jej powierzchni (`dbo:areaTotal`). __ </span>"
      ]
    },
    {
      "cell_type": "code",
      "metadata": {
        "id": "L3NQ7YJbYowj",
        "colab": {
          "base_uri": "https://localhost:8080/"
        },
        "outputId": "f71923a3-cb03-4e67-b1e8-b7b4f33cdfec"
      },
      "source": [
        "qres = g.query(\n",
        "    \"\"\"PREFIX dbo: <http://dbpedia.org/ontology/>\n",
        "       PREFIX dbr: <http://dbpedia.org/resource/>\n",
        "\n",
        "       SELECT ?settlement ?area\n",
        "       WHERE {\n",
        "        ?settlement dbo:country dbr:Poland .\n",
        "        OPTIONAL {?settlement dbo:areaTotal ?area . }\n",
        "       }\"\"\")\n",
        "\n",
        "for row in qres:\n",
        "    print(\"%s ma powierzchnię  %s\" % row)\n"
      ],
      "execution_count": 12,
      "outputs": [
        {
          "output_type": "stream",
          "text": [
            "http://dbpedia.org/resource/Malbork ma powierzchnię  None\n",
            "http://dbpedia.org/resource/Tricity,_Poland ma powierzchnię  414810000.0\n",
            "http://dbpedia.org/resource/Gliwice ma powierzchnię  133880000.0\n",
            "http://dbpedia.org/resource/Poznań ma powierzchnię  261850000.0\n",
            "http://dbpedia.org/resource/Warsaw ma powierzchnię  517240000.0\n",
            "http://dbpedia.org/resource/Ogrodzieniec ma powierzchnię  None\n",
            "http://dbpedia.org/resource/Wrocław ma powierzchnię  292920000.0\n",
            "http://dbpedia.org/resource/Uchylsko ma powierzchnię  2520000.0\n",
            "http://dbpedia.org/resource/Kraków ma powierzchnię  326800000.0\n"
          ],
          "name": "stdout"
        }
      ]
    },
    {
      "cell_type": "markdown",
      "metadata": {
        "id": "NZk7uCU7YowD"
      },
      "source": [
        "# Zapytanie typu ASK"
      ]
    },
    {
      "cell_type": "markdown",
      "metadata": {
        "id": "sUOLW09DYowE"
      },
      "source": [
        "Jeśli zależy nam na określeniu czy dany wzorzec trójkowy albo trójka RDF w ogóle znajdzie dopasowanie w grafie a niekoniecznie na wszystkich wynikach dopasowania, możemy zadać zapytanie typu `ASK`, które zwraca wartość `true` albo `false`: "
      ]
    },
    {
      "cell_type": "code",
      "metadata": {
        "id": "7XNyZVC5YowK",
        "colab": {
          "base_uri": "https://localhost:8080/"
        },
        "outputId": "e1beba84-a174-42fe-f941-938edc73fcb9"
      },
      "source": [
        "qres = g.query(\n",
        "    \"\"\"PREFIX dbo: <http://dbpedia.org/ontology/>\n",
        "       PREFIX dbr: <http://dbpedia.org/resource/>\n",
        "       ASK \n",
        "       WHERE {\n",
        "          dbr:Warsaw dbo:location dbr:Poland \n",
        "       }\"\"\")\n",
        "\n",
        "for row in qres:\n",
        "    print(\"%s\" % row)"
      ],
      "execution_count": 13,
      "outputs": [
        {
          "output_type": "stream",
          "text": [
            "False\n"
          ],
          "name": "stdout"
        }
      ]
    },
    {
      "cell_type": "markdown",
      "metadata": {
        "id": "jP88wvn1Fk7d"
      },
      "source": [
        "<span style=\"color:red\"> __Zadanie 6: Sformułuj zapytanie typu `ASK` analogiczne do powyższego, ale o to czy krajem Warszawy jest Polska (`dbo:country`). __ </span>"
      ]
    },
    {
      "cell_type": "code",
      "metadata": {
        "id": "ZSkJi6JZFzgD",
        "colab": {
          "base_uri": "https://localhost:8080/"
        },
        "outputId": "92dbe0f3-ed0e-49cf-f3d1-fd698094e91d"
      },
      "source": [
        "qres = g.query(\n",
        "    \"\"\"PREFIX dbo: <http://dbpedia.org/ontology/>\n",
        "       PREFIX dbr: <http://dbpedia.org/resource/>\n",
        "       ASK \n",
        "       WHERE {\n",
        "          dbr:Warsaw dbo:country dbr:Poland \n",
        "       }\"\"\")\n",
        "\n",
        "for row in qres:\n",
        "    print(\"%s\" % row)"
      ],
      "execution_count": 14,
      "outputs": [
        {
          "output_type": "stream",
          "text": [
            "True\n"
          ],
          "name": "stdout"
        }
      ]
    },
    {
      "cell_type": "markdown",
      "metadata": {
        "id": "kH5QdIjSIOZh"
      },
      "source": [
        "# Końcówka SPARQL DBpedii\n",
        "\n",
        "Zapytania SPARQL są wykonywane względem zbiorów danych RDF, składających się z grafów RDF. \n",
        "Końcówka SPARQL to usługa, która akceptuje zapytania i zwraca wyniki przez HTTP. \n",
        "Końcówki SPARQL mają swoje adresy, najczęściej powiązane z konkretnymi zbiorami danych. \n",
        "Adres końcówki SPARQL powiązanej z grafem wiedzy DBpedia to https://dbpedia.org/sparql\n",
        "DBpedia oferuje także interfejsy służące do przeglądania grafu jak i do jego odpytywania: https://dbpedia.org/sparql/\n",
        " "
      ]
    },
    {
      "cell_type": "markdown",
      "metadata": {
        "id": "qx1puWeWJYYD"
      },
      "source": [
        "__Zadanie 7: Korzystając z interfejsu jaki udostępnia DBpedia i pozyskanej do tej pory wiedzy na temat tego grafu, sformułuj następujące zapytania w języku SPARQL, tak żeby dostać wyniki za pomocą końcówki SPARQL DBpedii:\n",
        "\n",
        "1. Lista osób urodzonych w Warszawie \n",
        "2. Lista muzeów w Krakowie\n",
        "3. Lista osób urodzonych w Warszawie, które zdobyły nagrodę Nobla\n",
        "4. Daty urodzin osób urodzonych w Krakowie  \n",
        ". __"
      ]
    },
    {
      "cell_type": "code",
      "metadata": {
        "id": "4LeoleP8KCqX"
      },
      "source": [
        "# lista osób urodzonych w Warszawie - działa w interfejsie https://dbpedia.org/sparql/\n",
        "# url = https://dbpedia.org/sparql?default-graph-uri=http%3A%2F%2Fdbpedia.org&query=SELECT+%3Fperson+%3Fcity%0D%0A+++++++WHERE+%7B%0D%0A+++++++++%3Fcity+rdfs%3Alabel+%22Warsaw%22%40en+.%0D%0A+++++++++%3Fperson+dbo%3AbirthPlace+%3Fcity+.%0D%0A+++++++%7D&format=text%2Fhtml&timeout=30000&signal_void=on&signal_unconnected=on\n",
        "\n",
        "qres = g.query(\n",
        "    \"\"\"SELECT ?person ?city\n",
        "       WHERE {\n",
        "         ?city rdfs:label \"Warsaw\"@en .\n",
        "         ?person dbo:birthPlace ?city .\n",
        "       }\"\"\")\n",
        "\n",
        "# lista muzeów w Krakowie \n",
        "# url = https://dbpedia.org/sparql?default-graph-uri=http%3A%2F%2Fdbpedia.org&query=SELECT+%3Fname+%3Fcity%0D%0A+++++++WHERE+%7B%0D%0A+++++++++%3Fcity+rdfs%3Alabel+%22Krak%C3%B3w%22%40pl+.%0D%0A+++++++++%3Fname+dbo%3Alocation+%3Fcity+.%0D%0A+++++++++%3Fname+dbo%3AwikiPageWikiLink+dbr%3AMuseum+.%0D%0A+++++++%7D&format=text%2Fhtml&timeout=30000&signal_void=on&signal_unconnected=on\n",
        "\n",
        "qres = g.query(\n",
        "    \"\"\"SELECT ?name ?city\n",
        "       WHERE {\n",
        "         ?city rdfs:label \"Kraków\"@pl .\n",
        "         ?name dbo:location ?city .\n",
        "         ?name dbo:wikiPageWikiLink dbr:Museum .\n",
        "       }\"\"\")\n",
        "\n",
        "# lista osób urodzonych w Krakowie, które zdobyły nagrodę Nobla\n",
        "# url = https://dbpedia.org/sparql?default-graph-uri=http%3A%2F%2Fdbpedia.org&query=SELECT+%3Fperson+%3Fcity%0D%0A+++++++WHERE+%7B%0D%0A+++++++++%3Fcity+rdfs%3Alabel+%22Warsaw%22%40en+.%0D%0A+++++++++%3Fperson+dbo%3AbirthPlace+%3Fcity+.%0D%0A+++++++++%3Fperson+dbo%3AwikiPageWikiLink+dbr%3ANobel_Prize+.%0D%0A+++++++%7D&format=text%2Fhtml&timeout=30000&signal_void=on&signal_unconnected=on\n",
        "\n",
        "qres = g.query(\n",
        "    \"\"\"SELECT ?person ?city\n",
        "       WHERE {\n",
        "         ?city rdfs:label \"Warsaw\"@en .\n",
        "         ?person dbo:birthPlace ?city .\n",
        "         ?person dbo:wikiPageWikiLink dbr:Nobel_Prize .\n",
        "       }\"\"\")\n",
        "\n",
        "# daty urodzin osób urodzonych w Krakowie \n",
        "# url = https://dbpedia.org/sparql?default-graph-uri=http%3A%2F%2Fdbpedia.org&query=SELECT+%3Fperson+%3FdateOfBirth+%0D%0A+++++++WHERE+%7B%0D%0A+++++++++%3Fcity+rdfs%3Alabel+%22Cracow%22%40en+.%0D%0A+++++++++%3Fperson+dbo%3AbirthPlace+%3Fcity+.%0D%0A+++++++++%3Fperson+dbo%3AbirthDate+%3FdateOfBirth%0D%0A+++++++%7D&format=text%2Fhtml&timeout=30000&signal_void=on&signal_unconnected=on\n",
        "\n",
        "qres = g.query(\n",
        "    \"\"\"SELECT ?person ?dateOfBirth \n",
        "       WHERE {\n",
        "         ?city rdfs:label \"Cracow\"@en .\n",
        "         ?person dbo:birthPlace ?city .\n",
        "         ?person dbo:birthDate ?dateOfBirth\n",
        "       }\"\"\")\n"
      ],
      "execution_count": 15,
      "outputs": []
    }
  ]
}