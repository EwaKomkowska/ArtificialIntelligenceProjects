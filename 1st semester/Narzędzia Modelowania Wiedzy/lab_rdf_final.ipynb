{
  "nbformat": 4,
  "nbformat_minor": 0,
  "metadata": {
    "colab": {
      "name": "lab_rdf.ipynb",
      "provenance": [],
      "collapsed_sections": [
        "YQFgc_YUuCv2"
      ],
      "toc_visible": true
    },
    "kernelspec": {
      "display_name": "Python 3",
      "language": "python",
      "name": "python3"
    },
    "language_info": {
      "codemirror_mode": {
        "name": "ipython",
        "version": 3
      },
      "file_extension": ".py",
      "mimetype": "text/x-python",
      "name": "python",
      "nbconvert_exporter": "python",
      "pygments_lexer": "ipython3",
      "version": "3.8.0"
    }
  },
  "cells": [
    {
      "cell_type": "markdown",
      "metadata": {
        "id": "YQFgc_YUuCv2"
      },
      "source": [
        "# Czym jest rdflib"
      ]
    },
    {
      "cell_type": "markdown",
      "metadata": {
        "id": "yrdNfjqQuCv5"
      },
      "source": [
        "Pakiet Pythona pomocny w pracy z grafami RDF. Umożliwia:\n",
        "- wczytywanie grafów z internetu\n",
        "- zapisywanie grafów\n",
        "- parsowanie i serializację grafów\n",
        "- manipulowanie grafami RDF\n",
        "- wydawanie zapytań za pomocą języka SPARQL"
      ]
    },
    {
      "cell_type": "markdown",
      "metadata": {
        "id": "SFJJNrniOUVj"
      },
      "source": [
        "# Trójkowy model danych\n",
        "\n",
        "__[<b>RDF</b>](https://pl.wikipedia.org/wiki/Resource_Description_Framework)__ (ang. <i>Resource Description Framework</i>) jest językiem umożliwiającym reprezentowanie <b>sieci semantycznych</b> za pomocą technologii Web. \n",
        "Model RDF pozwala na opis zasobów, np. osób, produktów, miejscowości, witrynych internetowych, w postaci zdań o formacie trójek <b>Subject Predicate\tObject</b>."
      ]
    },
    {
      "cell_type": "markdown",
      "metadata": {
        "id": "ehQ8o7I1uCv7"
      },
      "source": [
        "# Instalacja pakietu:\n",
        "> pip install rdflib"
      ]
    },
    {
      "cell_type": "code",
      "metadata": {
        "colab": {
          "base_uri": "https://localhost:8080/"
        },
        "id": "nGtxllOfZXup",
        "scrolled": true,
        "outputId": "05b6feb4-361b-4199-cf4e-0e832dd0ffb5"
      },
      "source": [
        "!pip install rdflib\n",
        "\n",
        "import rdflib"
      ],
      "execution_count": null,
      "outputs": [
        {
          "output_type": "stream",
          "text": [
            "Collecting rdflib\n",
            "\u001b[?25l  Downloading https://files.pythonhosted.org/packages/d0/6b/6454aa1db753c0f8bc265a5bd5c10b5721a4bb24160fb4faf758cf6be8a1/rdflib-5.0.0-py3-none-any.whl (231kB)\n",
            "\r\u001b[K     |█▍                              | 10kB 14.8MB/s eta 0:00:01\r\u001b[K     |██▉                             | 20kB 16.0MB/s eta 0:00:01\r\u001b[K     |████▎                           | 30kB 13.8MB/s eta 0:00:01\r\u001b[K     |█████▊                          | 40kB 11.9MB/s eta 0:00:01\r\u001b[K     |███████                         | 51kB 8.9MB/s eta 0:00:01\r\u001b[K     |████████▌                       | 61kB 9.4MB/s eta 0:00:01\r\u001b[K     |██████████                      | 71kB 9.1MB/s eta 0:00:01\r\u001b[K     |███████████▍                    | 81kB 9.4MB/s eta 0:00:01\r\u001b[K     |████████████▊                   | 92kB 9.3MB/s eta 0:00:01\r\u001b[K     |██████████████▏                 | 102kB 8.4MB/s eta 0:00:01\r\u001b[K     |███████████████▋                | 112kB 8.4MB/s eta 0:00:01\r\u001b[K     |█████████████████               | 122kB 8.4MB/s eta 0:00:01\r\u001b[K     |██████████████████▍             | 133kB 8.4MB/s eta 0:00:01\r\u001b[K     |███████████████████▉            | 143kB 8.4MB/s eta 0:00:01\r\u001b[K     |█████████████████████▎          | 153kB 8.4MB/s eta 0:00:01\r\u001b[K     |██████████████████████▊         | 163kB 8.4MB/s eta 0:00:01\r\u001b[K     |████████████████████████        | 174kB 8.4MB/s eta 0:00:01\r\u001b[K     |█████████████████████████▌      | 184kB 8.4MB/s eta 0:00:01\r\u001b[K     |███████████████████████████     | 194kB 8.4MB/s eta 0:00:01\r\u001b[K     |████████████████████████████▍   | 204kB 8.4MB/s eta 0:00:01\r\u001b[K     |█████████████████████████████▉  | 215kB 8.4MB/s eta 0:00:01\r\u001b[K     |███████████████████████████████▏| 225kB 8.4MB/s eta 0:00:01\r\u001b[K     |████████████████████████████████| 235kB 8.4MB/s \n",
            "\u001b[?25hRequirement already satisfied: pyparsing in /usr/local/lib/python3.7/dist-packages (from rdflib) (2.4.7)\n",
            "Requirement already satisfied: six in /usr/local/lib/python3.7/dist-packages (from rdflib) (1.15.0)\n",
            "Collecting isodate\n",
            "\u001b[?25l  Downloading https://files.pythonhosted.org/packages/9b/9f/b36f7774ff5ea8e428fdcfc4bb332c39ee5b9362ddd3d40d9516a55221b2/isodate-0.6.0-py2.py3-none-any.whl (45kB)\n",
            "\r\u001b[K     |███████▏                        | 10kB 28.9MB/s eta 0:00:01\r\u001b[K     |██████████████▍                 | 20kB 23.1MB/s eta 0:00:01\r\u001b[K     |█████████████████████▌          | 30kB 28.2MB/s eta 0:00:01\r\u001b[K     |████████████████████████████▊   | 40kB 24.5MB/s eta 0:00:01\r\u001b[K     |████████████████████████████████| 51kB 6.9MB/s \n",
            "\u001b[?25hInstalling collected packages: isodate, rdflib\n",
            "Successfully installed isodate-0.6.0 rdflib-5.0.0\n"
          ],
          "name": "stdout"
        }
      ]
    },
    {
      "cell_type": "markdown",
      "metadata": {
        "id": "nonWZ368uCv_"
      },
      "source": [
        "# Tworzenie grafu"
      ]
    },
    {
      "cell_type": "markdown",
      "metadata": {
        "id": "dU6UFxPluCv9"
      },
      "source": [
        "W celu ćwiczeń będziemy operować na przykładowym grafie opisującym domenę miejscowości. "
      ]
    },
    {
      "cell_type": "markdown",
      "metadata": {
        "id": "4UfZoiZcuCwC"
      },
      "source": [
        "Tworzenie grafu:"
      ]
    },
    {
      "cell_type": "code",
      "metadata": {
        "id": "y-uT_V5DuCwE"
      },
      "source": [
        "from rdflib import Graph\n",
        "g1 = Graph()"
      ],
      "execution_count": null,
      "outputs": []
    },
    {
      "cell_type": "markdown",
      "metadata": {
        "id": "AxnM2LF-uCwL"
      },
      "source": [
        "Ładowanie grafu z zewnętrznego źródła:"
      ]
    },
    {
      "cell_type": "code",
      "metadata": {
        "colab": {
          "base_uri": "https://localhost:8080/"
        },
        "id": "hZWZOkEduCwN",
        "outputId": "29b91024-ee1e-4195-a80a-6ee7fb2dcbaa"
      },
      "source": [
        "g1.parse(\"miejscowosci.ttl\", format=\"ttl\")"
      ],
      "execution_count": null,
      "outputs": [
        {
          "output_type": "execute_result",
          "data": {
            "text/plain": [
              "<Graph identifier=N04a7f28c150c4a18817f5de1f6f3a0cd (<class 'rdflib.graph.Graph'>)>"
            ]
          },
          "metadata": {
            "tags": []
          },
          "execution_count": 3
        }
      ]
    },
    {
      "cell_type": "code",
      "metadata": {
        "colab": {
          "base_uri": "https://localhost:8080/"
        },
        "id": "vf-jUNgBuCwT",
        "outputId": "e2cf72b8-ec28-4c90-b883-85623a25cc6c"
      },
      "source": [
        "print(\"Graf zawiera %s trójek.\" % len(g1))"
      ],
      "execution_count": null,
      "outputs": [
        {
          "output_type": "stream",
          "text": [
            "Graf zawiera 22 trójek.\n"
          ],
          "name": "stdout"
        }
      ]
    },
    {
      "cell_type": "markdown",
      "metadata": {
        "id": "TZktC2ZvuCwb"
      },
      "source": [
        "# Serializacja grafu"
      ]
    },
    {
      "cell_type": "markdown",
      "metadata": {
        "id": "cIBHG3JHuCwe"
      },
      "source": [
        "Graf RDF możemy serializować na wiele różnych formatów: xml, turle, n3, json-ld itd. Poniżej znajduje się przykład serializacji do formatu turtle. "
      ]
    },
    {
      "cell_type": "code",
      "metadata": {
        "colab": {
          "base_uri": "https://localhost:8080/"
        },
        "id": "vO2rERKtuCwh",
        "scrolled": true,
        "outputId": "c6db77bb-9d70-4749-8054-132963e31070"
      },
      "source": [
        "print(g1.serialize(format='turtle'))\n"
      ],
      "execution_count": null,
      "outputs": [
        {
          "output_type": "stream",
          "text": [
            "b'@prefix : <http://przyklad.org/miejscowosci#> .\\n@prefix owl: <http://www.w3.org/2002/07/owl#> .\\n@prefix rdfs: <http://www.w3.org/2000/01/rdf-schema#> .\\n@prefix xsd: <http://www.w3.org/2001/XMLSchema#> .\\n\\n: a owl:Ontology .\\n\\n:miejsc_000000001 a :miejsc_000000000,\\n        owl:NamedIndividual ;\\n    rdfs:label \"Pozna\\xc5\\x84\"@pl ;\\n    :miejsc_000000003 \"533830\"^^xsd:int .\\n\\n:miejsc_000000002 a :miejsc_000000000,\\n        owl:NamedIndividual ;\\n    rdfs:label \"Warszawa\"@pl ;\\n    :miejsc_000000003 \"1790658\"^^xsd:int .\\n\\n:miejsc_000000003 a owl:DatatypeProperty ;\\n    rdfs:label \"liczbaLudno\\xc5\\x9bci\"@pl ;\\n    rdfs:range xsd:int .\\n\\n:miejsc_000000005 a :miejsc_000000004,\\n        owl:NamedIndividual ;\\n    rdfs:label \"Wojew\\xc3\\xb3dztwo Wielkopolskie\"@pl .\\n\\n:miejsc_000000006 a :miejsc_000000004,\\n        owl:NamedIndividual ;\\n    rdfs:label \"Wojew\\xc3\\xb3dztwo Mazowieckie\"@pl .\\n\\n:miejsc_000000000 a owl:Class ;\\n    rdfs:label \"Miejscowo\\xc5\\x9b\\xc4\\x87\"@pl .\\n\\n:miejsc_000000004 a owl:Class ;\\n    rdfs:label \"Wojew\\xc3\\xb3dztwo\"@pl .\\n\\n'\n"
          ],
          "name": "stdout"
        }
      ]
    },
    {
      "cell_type": "markdown",
      "metadata": {
        "id": "sGTdMTrUuCwl"
      },
      "source": [
        "<span style=\"color:red\"> __Zadanie 1: serializuj graf g1 do formatu XML ('xml'), który jest jednym z typowych formatów serializacji grafów RDF (tzw. rdf/xml).__ </span>"
      ]
    },
    {
      "cell_type": "code",
      "metadata": {
        "id": "FnVJOng8uCwm",
        "colab": {
          "base_uri": "https://localhost:8080/"
        },
        "outputId": "44ad5c8d-6f18-46df-997b-c47b1e1b4f72"
      },
      "source": [
        "#tutaj wprowadź rozwiązanie zadania 1\n",
        "print(g1.serialize(format='xml'))"
      ],
      "execution_count": null,
      "outputs": [
        {
          "output_type": "stream",
          "text": [
            "b'<?xml version=\"1.0\" encoding=\"UTF-8\"?>\\n<rdf:RDF\\n   xmlns=\"http://przyklad.org/miejscowosci#\"\\n   xmlns:rdf=\"http://www.w3.org/1999/02/22-rdf-syntax-ns#\"\\n   xmlns:rdfs=\"http://www.w3.org/2000/01/rdf-schema#\"\\n>\\n  <rdf:Description rdf:about=\"http://przyklad.org/miejscowosci#miejsc_000000003\">\\n    <rdfs:range rdf:resource=\"http://www.w3.org/2001/XMLSchema#int\"/>\\n    <rdf:type rdf:resource=\"http://www.w3.org/2002/07/owl#DatatypeProperty\"/>\\n    <rdfs:label xml:lang=\"pl\">liczbaLudno\\xc5\\x9bci</rdfs:label>\\n  </rdf:Description>\\n  <rdf:Description rdf:about=\"http://przyklad.org/miejscowosci#miejsc_000000000\">\\n    <rdf:type rdf:resource=\"http://www.w3.org/2002/07/owl#Class\"/>\\n    <rdfs:label xml:lang=\"pl\">Miejscowo\\xc5\\x9b\\xc4\\x87</rdfs:label>\\n  </rdf:Description>\\n  <rdf:Description rdf:about=\"http://przyklad.org/miejscowosci#miejsc_000000002\">\\n    <rdf:type rdf:resource=\"http://przyklad.org/miejscowosci#miejsc_000000000\"/>\\n    <miejsc_000000003 rdf:datatype=\"http://www.w3.org/2001/XMLSchema#int\">1790658</miejsc_000000003>\\n    <rdf:type rdf:resource=\"http://www.w3.org/2002/07/owl#NamedIndividual\"/>\\n    <rdfs:label xml:lang=\"pl\">Warszawa</rdfs:label>\\n  </rdf:Description>\\n  <rdf:Description rdf:about=\"http://przyklad.org/miejscowosci#miejsc_000000001\">\\n    <rdfs:label xml:lang=\"pl\">Pozna\\xc5\\x84</rdfs:label>\\n    <rdf:type rdf:resource=\"http://przyklad.org/miejscowosci#miejsc_000000000\"/>\\n    <miejsc_000000003 rdf:datatype=\"http://www.w3.org/2001/XMLSchema#int\">533830</miejsc_000000003>\\n    <rdf:type rdf:resource=\"http://www.w3.org/2002/07/owl#NamedIndividual\"/>\\n  </rdf:Description>\\n  <rdf:Description rdf:about=\"http://przyklad.org/miejscowosci#miejsc_000000004\">\\n    <rdfs:label xml:lang=\"pl\">Wojew\\xc3\\xb3dztwo</rdfs:label>\\n    <rdf:type rdf:resource=\"http://www.w3.org/2002/07/owl#Class\"/>\\n  </rdf:Description>\\n  <rdf:Description rdf:about=\"http://przyklad.org/miejscowosci#miejsc_000000006\">\\n    <rdf:type rdf:resource=\"http://www.w3.org/2002/07/owl#NamedIndividual\"/>\\n    <rdf:type rdf:resource=\"http://przyklad.org/miejscowosci#miejsc_000000004\"/>\\n    <rdfs:label xml:lang=\"pl\">Wojew\\xc3\\xb3dztwo Mazowieckie</rdfs:label>\\n  </rdf:Description>\\n  <rdf:Description rdf:about=\"http://przyklad.org/miejscowosci#\">\\n    <rdf:type rdf:resource=\"http://www.w3.org/2002/07/owl#Ontology\"/>\\n  </rdf:Description>\\n  <rdf:Description rdf:about=\"http://przyklad.org/miejscowosci#miejsc_000000005\">\\n    <rdfs:label xml:lang=\"pl\">Wojew\\xc3\\xb3dztwo Wielkopolskie</rdfs:label>\\n    <rdf:type rdf:resource=\"http://www.w3.org/2002/07/owl#NamedIndividual\"/>\\n    <rdf:type rdf:resource=\"http://przyklad.org/miejscowosci#miejsc_000000004\"/>\\n  </rdf:Description>\\n</rdf:RDF>\\n'\n"
          ],
          "name": "stdout"
        }
      ]
    },
    {
      "cell_type": "markdown",
      "metadata": {
        "id": "Sas22jO7OUVo"
      },
      "source": [
        "Po serializacji do formatu xml (rdf/xml), dane grafu powinny znaleźć się pomiędzy znacznikami <code><rdf:RDF></code>. \n",
        "Żeby zwalidować poprawność danych w tym formacie (oraz je zwizualizować) można posłużyć się usługą webową <b>RDF Validator</b> dostępną pod adresem http://www.w3.org/RDF/Validator/. W tym celu skopiuj dane (łącznie ze znacznikami otwierającymi i zamykającymi <code><rdf:RDF></code> i <code></rdf:RDF></code> i zaczynając od informacji o kodowaniu <code><?xml version=\"1.0\" encoding=\"UTF-8\"?></code>) a następnie wklej do pola tesktowego udostępnionego przez usługę (uwaga: najpierw trzeba usunąć znaki końca linii <code>\\n</code>). \n",
        "Żeby zwizualizować graf, wybierz opcję <i>Triples and Graph</i> w <i>Display Result Options</i> a następnie kliknij przycisk <i>Parse RDF</i>. Wynikiem powienien być zwizualizowany graf, jak i tablica z wypisanymi wszystkimi trójkami RDF."
      ]
    },
    {
      "cell_type": "markdown",
      "metadata": {
        "id": "E0iUlBxRuCwr"
      },
      "source": [
        "# Iterowanie po trójkach w grafie \n",
        "\n",
        "Możemy iterować po trójkach w grafie jak pokazane poniżej:\n"
      ]
    },
    {
      "cell_type": "code",
      "metadata": {
        "id": "zzR6CnONuCwt",
        "scrolled": true,
        "colab": {
          "base_uri": "https://localhost:8080/"
        },
        "outputId": "fdb98186-e006-48a0-8a9a-46b047000993"
      },
      "source": [
        "for s, p, o in g1:\n",
        "  print(s, p, o)"
      ],
      "execution_count": null,
      "outputs": [
        {
          "output_type": "stream",
          "text": [
            "http://przyklad.org/miejscowosci#miejsc_000000003 http://www.w3.org/2000/01/rdf-schema#range http://www.w3.org/2001/XMLSchema#int\n",
            "http://przyklad.org/miejscowosci#miejsc_000000000 http://www.w3.org/2000/01/rdf-schema#label Miejscowość\n",
            "http://przyklad.org/miejscowosci#miejsc_000000002 http://www.w3.org/2000/01/rdf-schema#label Warszawa\n",
            "http://przyklad.org/miejscowosci#miejsc_000000001 http://www.w3.org/2000/01/rdf-schema#label Poznań\n",
            "http://przyklad.org/miejscowosci#miejsc_000000001 http://przyklad.org/miejscowosci#miejsc_000000003 533830\n",
            "http://przyklad.org/miejscowosci#miejsc_000000004 http://www.w3.org/2000/01/rdf-schema#label Województwo\n",
            "http://przyklad.org/miejscowosci#miejsc_000000006 http://www.w3.org/1999/02/22-rdf-syntax-ns#type http://przyklad.org/miejscowosci#miejsc_000000004\n",
            "http://przyklad.org/miejscowosci#miejsc_000000004 http://www.w3.org/1999/02/22-rdf-syntax-ns#type http://www.w3.org/2002/07/owl#Class\n",
            "http://przyklad.org/miejscowosci#miejsc_000000006 http://www.w3.org/2000/01/rdf-schema#label Województwo Mazowieckie\n",
            "http://przyklad.org/miejscowosci#miejsc_000000001 http://www.w3.org/1999/02/22-rdf-syntax-ns#type http://www.w3.org/2002/07/owl#NamedIndividual\n",
            "http://przyklad.org/miejscowosci#miejsc_000000000 http://www.w3.org/1999/02/22-rdf-syntax-ns#type http://www.w3.org/2002/07/owl#Class\n",
            "http://przyklad.org/miejscowosci#miejsc_000000003 http://www.w3.org/2000/01/rdf-schema#label liczbaLudności\n",
            "http://przyklad.org/miejscowosci# http://www.w3.org/1999/02/22-rdf-syntax-ns#type http://www.w3.org/2002/07/owl#Ontology\n",
            "http://przyklad.org/miejscowosci#miejsc_000000002 http://przyklad.org/miejscowosci#miejsc_000000003 1790658\n",
            "http://przyklad.org/miejscowosci#miejsc_000000003 http://www.w3.org/1999/02/22-rdf-syntax-ns#type http://www.w3.org/2002/07/owl#DatatypeProperty\n",
            "http://przyklad.org/miejscowosci#miejsc_000000005 http://www.w3.org/2000/01/rdf-schema#label Województwo Wielkopolskie\n",
            "http://przyklad.org/miejscowosci#miejsc_000000002 http://www.w3.org/1999/02/22-rdf-syntax-ns#type http://www.w3.org/2002/07/owl#NamedIndividual\n",
            "http://przyklad.org/miejscowosci#miejsc_000000002 http://www.w3.org/1999/02/22-rdf-syntax-ns#type http://przyklad.org/miejscowosci#miejsc_000000000\n",
            "http://przyklad.org/miejscowosci#miejsc_000000001 http://www.w3.org/1999/02/22-rdf-syntax-ns#type http://przyklad.org/miejscowosci#miejsc_000000000\n",
            "http://przyklad.org/miejscowosci#miejsc_000000005 http://www.w3.org/1999/02/22-rdf-syntax-ns#type http://www.w3.org/2002/07/owl#NamedIndividual\n",
            "http://przyklad.org/miejscowosci#miejsc_000000006 http://www.w3.org/1999/02/22-rdf-syntax-ns#type http://www.w3.org/2002/07/owl#NamedIndividual\n",
            "http://przyklad.org/miejscowosci#miejsc_000000005 http://www.w3.org/1999/02/22-rdf-syntax-ns#type http://przyklad.org/miejscowosci#miejsc_000000004\n"
          ],
          "name": "stdout"
        }
      ]
    },
    {
      "cell_type": "markdown",
      "metadata": {
        "id": "81uTVD0rOUVp"
      },
      "source": [
        "<span style=\"color:red\"> __Pytanie 1: Zwróć uwagę, że obiekty w grafie (miejscowości i województwa) mają alfanumeryczne identyfikatory URI a ich nazwa jest reprezentowana poprzez etykietę wprowadzoną za pomocą własności <code>rdfs:label</code> (np. <i>Poznań</i>). Jakie zalety może mieć takie rozwiązanie w stosunku do rozwiązania, w którym nazwa jest wykorzystywana bezpośrednio w identyfikatorze URI i nie jest tworzona osobna etykieta?__ </span>"
      ]
    },
    {
      "cell_type": "markdown",
      "metadata": {
        "id": "wJBfXSF4Ubp9"
      },
      "source": [
        "### Odpowiedź:\n",
        "\n",
        "Pojedynczy obiekt może mieć więcej wartości etykiet, nie wymusza to wtedy nadpisywania lub usuwania poprzednich. Dodatkowo nie musimy tworzyć osobnych URI dla każdej pojedynczej etykiety (z jednoznaczną wartością), co może bardzo powiększać zbiór danych. Kolejną zaletą może być łatwość wyszukiwania późniejszych informacji - możemy po prostu szukać dowolnej wartości predykatu, a później zastanowić się, jakie wartości będą nas interesowały, a dzięki temu łatwiej też skorzystać z już dostęnych nazw stworzonych przez innych użytkowników. "
      ]
    },
    {
      "cell_type": "markdown",
      "metadata": {
        "collapsed": true,
        "id": "_69Au3veuCwy"
      },
      "source": [
        "# Przestrzenie nazw"
      ]
    },
    {
      "cell_type": "markdown",
      "metadata": {
        "id": "5oLN18ZxuCw4"
      },
      "source": [
        "Przestrzenie nazw, które są zdefiniowane w pakiecie to: RDF, RDFS, OWL, XSD, FOAF, SKOS, DOAP, DC, DCTERMS,VOID"
      ]
    },
    {
      "cell_type": "code",
      "metadata": {
        "id": "sITJxF2wuCw5"
      },
      "source": [
        "from rdflib.namespace import RDF, RDFS, OWL"
      ],
      "execution_count": null,
      "outputs": []
    },
    {
      "cell_type": "markdown",
      "metadata": {
        "id": "4p-tetuQuCw8"
      },
      "source": [
        "<span style=\"color:red\"> __Zadanie 2: Zaimportuj przestrzeń nazw XSD__ </span>"
      ]
    },
    {
      "cell_type": "code",
      "metadata": {
        "id": "8IHiG2MsuCw9"
      },
      "source": [
        "# tutaj wprowadź rozwiązanie zadania 2\n",
        "from rdflib.namespace import XSD"
      ],
      "execution_count": null,
      "outputs": []
    },
    {
      "cell_type": "markdown",
      "metadata": {
        "id": "KNQsNXbfuCwz"
      },
      "source": [
        "rdflib pozwala utworzyć własne przestrzenie nazw. Poniżej deklarujemy przestrzeń nazw dla naszej domeny miejscowości:"
      ]
    },
    {
      "cell_type": "code",
      "metadata": {
        "id": "YiDig7eouCw0"
      },
      "source": [
        "from rdflib import Namespace\n",
        "n1 = Namespace(\"http://przyklad.org/miejscowosci#\")"
      ],
      "execution_count": null,
      "outputs": []
    },
    {
      "cell_type": "markdown",
      "metadata": {
        "id": "6dg_0tQJuCxA"
      },
      "source": [
        "# Zasoby"
      ]
    },
    {
      "cell_type": "markdown",
      "metadata": {
        "id": "UtZrANrXuCxC"
      },
      "source": [
        "## Reprezentacja podstawowych elementów i ich tworzenie"
      ]
    },
    {
      "cell_type": "markdown",
      "metadata": {
        "id": "izwFYxCZuCxD"
      },
      "source": [
        "Dane w formacie RDF stanowią graf, w którym węzły (wierzchołki) są odniesieniami do identyfikatorów URI, węzłami anonimowymi (pustymi) lub literałami. W bibliotece rdflib te typy węzłów są reprezentowane odpowiednio przez klasy <b>URIRef</b>, <b>BNode</b> i <b>Literal</b>. URIRef i BNode można traktować jako zasoby.\n",
        "<ul>\n",
        "<li><code>BNode</code> to węzeł, dla którego nie jest znany dokładny identyfikator URI.\n",
        "<li><code>URIRef</code> to węzeł, dla którego jest znany dokładny identyfikator URI. Węzły URIRefs są również używane do reprezentowania własności / predykatów w grafie RDF.\n",
        "<li>Literały reprezentują wartości atrybutów, takie jak nazwa, liczba, data itp. Najpopularniejsze wartości literałów mają typy danych pochodzące z przestrzeni nazw XML Schema (XSD).\n",
        "</ul>\n",
        "\n",
        "### URIRef"
      ]
    },
    {
      "cell_type": "markdown",
      "metadata": {
        "id": "8f5RT1JruCxE"
      },
      "source": [
        "Poniżej pokazano tworzenie referencji do zasobów (reprezentowanych przez URI)."
      ]
    },
    {
      "cell_type": "code",
      "metadata": {
        "id": "i82EC-pjuCxF"
      },
      "source": [
        "from rdflib import URIRef, BNode, Literal\n",
        "kleparz = URIRef(\"http://przyklad.org/miejscowosci#miejsc_0000000010\")\n",
        "ryczywol = URIRef(\"http://przyklad.org/miejscowosci#miejsc_0000000011\")"
      ],
      "execution_count": null,
      "outputs": []
    },
    {
      "cell_type": "markdown",
      "metadata": {
        "id": "0QI2tPPkuCxI"
      },
      "source": [
        "<span style=\"color:red\"> __Zadanie 3: Utwórz następujące zasoby:__ </span>\n",
        "- http://przyklad.org/miejscowosci#miejsc_0000000012 (katowice) \n",
        "- http://przyklad.org/miejscowosci#miejsc_0000000013 (niedzica_zamek)\n",
        "- http://przyklad.org/miejscowosci#miejsc_0000000014 (pasieczniki_duze)\n",
        "\n",
        "        "
      ]
    },
    {
      "cell_type": "code",
      "metadata": {
        "id": "rWe9EQ84uCxJ"
      },
      "source": [
        "#tutaj wprowadź rozwiązanie zadania 3\n",
        "katowice = URIRef(\"http://przyklad.org/miejscowosci#miejsc_0000000012\")\n",
        "niedzica_zamek = URIRef(\"http://przyklad.org/miejscowosci#miejsc_0000000013\")\n",
        "pasieczniki_duze = URIRef(\"http://przyklad.org/miejscowosci#miejsc_0000000014\")"
      ],
      "execution_count": null,
      "outputs": []
    },
    {
      "cell_type": "markdown",
      "metadata": {
        "id": "7zlRtyEQuCxQ"
      },
      "source": [
        "### Literał"
      ]
    },
    {
      "cell_type": "markdown",
      "metadata": {
        "id": "re4M9PYLOUVt"
      },
      "source": [
        "Przypiszemy teraz nazwy miejscowości (etykiety) do naszych zasobów za pomocą własności <code>rdfs:label</code>. "
      ]
    },
    {
      "cell_type": "code",
      "metadata": {
        "id": "095OqbTcOUVt"
      },
      "source": [
        "g1.add([kleparz, RDFS.label, Literal(\"Kleparz\")])\n",
        "g1.add([ryczywol, RDFS.label, Literal(\"Ryczywół\")])\n"
      ],
      "execution_count": null,
      "outputs": []
    },
    {
      "cell_type": "markdown",
      "metadata": {
        "id": "uviHzWByuCxT"
      },
      "source": [
        "<span style=\"color:red\"> __Zadanie 4: Utwórz następujące etykiety i odpowiednio przypisz je do zasobów:__ </span>\n",
        "- 'Katowice' \n",
        "- 'Niedzica Zamek' \n",
        "- 'Pasieczniki Duże'"
      ]
    },
    {
      "cell_type": "code",
      "metadata": {
        "id": "wpbTl7aTuCxc"
      },
      "source": [
        "# tutaj wprowadź rozwiązanie zadania 4\n",
        "g1.add([katowice, RDFS.label, Literal(\"Katowice\")])\n",
        "g1.add([niedzica_zamek, RDFS.label, Literal(\"Niedzica Zamek\")])\n",
        "g1.add([pasieczniki_duze, RDFS.label, Literal(\"Pasieczniki Duże\")])"
      ],
      "execution_count": null,
      "outputs": []
    },
    {
      "cell_type": "markdown",
      "metadata": {
        "id": "S8lnDgPxOUVu"
      },
      "source": [
        "Utworzymy teraz literały, które będą służyć nam do reprezentacji liczby ludności dla wybranych miejscowości i odpowiednio je przypiszmy poprzez dodanie odpowiednich trójek, np.:"
      ]
    },
    {
      "cell_type": "code",
      "metadata": {
        "id": "k9WR7_mUOUVv"
      },
      "source": [
        "lit1 = Literal('302397', datatype = XSD.int)\n",
        "g1.add([katowice, URIRef('http://przyklad.org/miejscowosci#miejsc_000000003'), lit1])"
      ],
      "execution_count": null,
      "outputs": []
    },
    {
      "cell_type": "markdown",
      "metadata": {
        "id": "JQ34RvDbOUVv"
      },
      "source": [
        "<span style=\"color:red\"> __Zadanie 5: Utwórz literał opisujący liczbę ludności i odpowiednio przypisz je do następującego zasobu:__ </span>\n",
        "- pasieczniki_duze (liczba ludności: 114)"
      ]
    },
    {
      "cell_type": "code",
      "metadata": {
        "id": "OT9UDiY4OUVv"
      },
      "source": [
        "# tutaj wprowadź rozwiązanie zadania 5\n",
        "lit2 = Literal('114', datatype = XSD.int)\n",
        "g1.add([pasieczniki_duze, URIRef('http://przyklad.org/miejscowosci#miejsc_000000003'), lit2])"
      ],
      "execution_count": null,
      "outputs": []
    },
    {
      "cell_type": "markdown",
      "metadata": {
        "id": "V7xwu4MiuCxN"
      },
      "source": [
        "### BNode: węzeł anonimowy"
      ]
    },
    {
      "cell_type": "code",
      "metadata": {
        "id": "pXVMl3RbuCxO"
      },
      "source": [
        "bnode = BNode()"
      ],
      "execution_count": null,
      "outputs": []
    },
    {
      "cell_type": "markdown",
      "metadata": {
        "id": "wjPeFEY2uCxg"
      },
      "source": [
        "# Dodawanie i usuwanie trójek"
      ]
    },
    {
      "cell_type": "markdown",
      "metadata": {
        "id": "cxA8AVtGuCxh"
      },
      "source": [
        "### Dodawanie trójek RDF\n",
        "\n",
        "W powyższych przykładach widzieliśmy już jak można dodać trójkę do grafu RDF. \n",
        "Dodajmy jeszcze dodatkowe trójki, którymi opiszemy to, że dana miejscowość jest częścią danego województwa. \n",
        "\n",
        "<span style=\"color:magenta\"> <b>Wskazówka: dobrą praktyką jest wykorzystywanie w swoich grafach już przyjętych i popularnych zasobów na określenie '<i>klas</i>' i własności. Szczególnie dotyczy to własności, gdyż wykorzystanie typowych, popularnych własności, tam gdzie tylko widzimy, że będzie pasować to semantycznie, pozwoli lepiej modularyzować nasze grafy i lepiej je integrować z innymi grafami. Wynika to po części z tego, że twórcy tych zasobów, jak i narzędzia do edycji, koncentrują się na 'encjocentrycznym' podejściu, budując przede wszystkim taksonomię pojęć (klas). </b></span>\n",
        "\n",
        "Żeby wyrazić, że coś <i>jest częścią</i> czegoś innego uzyjemy własności <code>has part</code> z popularnej ontologii relacji <b>RO</b> (ang. <i>Relation Ontology</i>)."
      ]
    },
    {
      "cell_type": "code",
      "metadata": {
        "id": "mCS2IE49uCxi"
      },
      "source": [
        "# Województwo Wielkopolskie ma część Poznań\n",
        "wojewodztwo_wielkopolskie = URIRef('http://przyklad.org/miejscowosci#miejsc_000000005')\n",
        "poznan = URIRef('http://przyklad.org/miejscowosci#miejsc_000000001')\n",
        "ma_czesc = URIRef('http://purl.obolibrary.org/obo/BFO_0000051') \n",
        "    \n",
        "g1.add((wojewodztwo_wielkopolskie, ma_czesc, poznan))"
      ],
      "execution_count": null,
      "outputs": []
    },
    {
      "cell_type": "markdown",
      "metadata": {
        "id": "g6qrXYLFuCxk"
      },
      "source": [
        "<span style=\"color:red\"> __Zadanie 6: dodaj do grafu g1 trójkę reprezentującą informację o tym, że Województwo Mazowieckie ma część Warszawa.__ </span>\n"
      ]
    },
    {
      "cell_type": "code",
      "metadata": {
        "id": "hOsxOXUluCxl"
      },
      "source": [
        "# tutaj wprowadź rozwiązanie zadania 6\n",
        "wojewodztwo_mazowieckie = URIRef('http://przyklad.org/miejscowosci#miejsc_000000006')\n",
        "warszawa = URIRef('http://przyklad.org/miejscowosci#miejsc_000000002')\n",
        "    \n",
        "g1.add((wojewodztwo_mazowieckie, ma_czesc, warszawa))"
      ],
      "execution_count": null,
      "outputs": []
    },
    {
      "cell_type": "markdown",
      "metadata": {
        "id": "zjo1lJPuuCxo"
      },
      "source": [
        "<span style=\"color:red\"> __Zadanie 7: dodaj do grafu g1 następującą informację: (warszawa, jest_czescia, _bnode1), (_bnode1, RDFS.label, \"Polska\"). Uwaga: _bnode1 może być zastąpiony dowolnym identyfikatorem węzła anonimowego (np. automatycznie wygenerowanym).__ </span>"
      ]
    },
    {
      "cell_type": "code",
      "metadata": {
        "id": "Uv7waKDduCxq"
      },
      "source": [
        "# polska = URIRef('http://przyklad.org/miejscowosci#miejsc_000000100')\n",
        "jest_czescia = URIRef('http://purl.obolibrary.org/obo/BFO_0000050')\n",
        "\n",
        "# tutaj wprowadź rozwiązanie zadania 7\n",
        "g1.add((warszawa, jest_czescia, bnode))\n",
        "g1.add((bnode, RDFS.label, BNode(\"Polska\") ))"
      ],
      "execution_count": null,
      "outputs": []
    },
    {
      "cell_type": "markdown",
      "metadata": {
        "id": "dXmBDJKZuCxt"
      },
      "source": [
        "### Usuwanie trójek:\n",
        "Przykład pokazano poniżej:"
      ]
    },
    {
      "cell_type": "code",
      "metadata": {
        "id": "XsLNywzMuCxu"
      },
      "source": [
        "g1.remove( (wojewodztwo_wielkopolskie, ma_czesc, None) )"
      ],
      "execution_count": null,
      "outputs": []
    },
    {
      "cell_type": "markdown",
      "metadata": {
        "id": "-CdyQI2vuCxw"
      },
      "source": [
        "# Odczyt grafu"
      ]
    },
    {
      "cell_type": "markdown",
      "metadata": {
        "id": "qvQiHM8nuCxx"
      },
      "source": [
        "- Odczyt trójki z grafu"
      ]
    },
    {
      "cell_type": "markdown",
      "metadata": {
        "id": "s0zYs873uCxy"
      },
      "source": [
        "Grafy reprezentowane za pomocą rdflib wspierają podstawowe dopasowywanie wzorców za pomocą funkcji triples(). Ta funkcja jest generatorem trójek, które można dopasować do wzorca określonego przez argumenty. Termy __None__ są traktowane jako wildcard, np:"
      ]
    },
    {
      "cell_type": "code",
      "metadata": {
        "id": "V97CwwsGuCxy",
        "colab": {
          "base_uri": "https://localhost:8080/"
        },
        "outputId": "d3ca2b54-b69d-43db-d7b9-adfb0a2b6862"
      },
      "source": [
        "miejscowosc = URIRef('http://przyklad.org/miejscowosci#miejsc_000000000')\n",
        "\n",
        "for s,p,o in g1.triples( (None, RDF.type, miejscowosc) ):\n",
        "   print(\"%s jest miejscowością\"%s)"
      ],
      "execution_count": null,
      "outputs": [
        {
          "output_type": "stream",
          "text": [
            "http://przyklad.org/miejscowosci#miejsc_000000002 jest miejscowością\n",
            "http://przyklad.org/miejscowosci#miejsc_000000001 jest miejscowością\n"
          ],
          "name": "stdout"
        }
      ]
    },
    {
      "cell_type": "markdown",
      "metadata": {
        "id": "rUosvejouCx1"
      },
      "source": [
        "Odczyt podmiotu"
      ]
    },
    {
      "cell_type": "code",
      "metadata": {
        "id": "jELOPMtvuCx1",
        "colab": {
          "base_uri": "https://localhost:8080/"
        },
        "outputId": "93e06152-c9a7-40a6-d843-146932da1aee"
      },
      "source": [
        "# podmioty dla danego typu\n",
        "for miejscowosc in g1.subjects(RDF.type, miejscowosc):\n",
        "   print(\"%s jest miejscowością\"%miejscowosc)"
      ],
      "execution_count": null,
      "outputs": [
        {
          "output_type": "stream",
          "text": [
            "http://przyklad.org/miejscowosci#miejsc_000000002 jest miejscowością\n",
            "http://przyklad.org/miejscowosci#miejsc_000000001 jest miejscowością\n"
          ],
          "name": "stdout"
        }
      ]
    },
    {
      "cell_type": "markdown",
      "metadata": {
        "id": "kISqwp3QuCx3"
      },
      "source": [
        "Odczyt predykatu"
      ]
    },
    {
      "cell_type": "code",
      "metadata": {
        "id": "LEfo765wuCx4",
        "colab": {
          "base_uri": "https://localhost:8080/"
        },
        "outputId": "b306d0a5-ef4e-47ad-b4b4-eaf6ccbf1171"
      },
      "source": [
        "# predykaty dla podmiotu i obiektu\n",
        "for pred in g1.predicates(poznan, None): \n",
        "   print(pred)"
      ],
      "execution_count": null,
      "outputs": [
        {
          "output_type": "stream",
          "text": [
            "http://www.w3.org/2000/01/rdf-schema#label\n",
            "http://www.w3.org/1999/02/22-rdf-syntax-ns#type\n",
            "http://przyklad.org/miejscowosci#miejsc_000000003\n",
            "http://www.w3.org/1999/02/22-rdf-syntax-ns#type\n"
          ],
          "name": "stdout"
        }
      ]
    },
    {
      "cell_type": "code",
      "metadata": {
        "id": "xvut80UDuCx6",
        "colab": {
          "base_uri": "https://localhost:8080/"
        },
        "outputId": "f5842f69-06b1-4256-c1ab-cc73bf8c96d0"
      },
      "source": [
        "# obiekty dla podmiotu i predykatu\n",
        "ma_liczbe_ludnosci = URIRef('http://przyklad.org/miejscowosci#miejsc_000000003')\n",
        "print(g1.objects(poznan, ma_liczbe_ludnosci)) # albo\n",
        "print(g1.value(poznan, ma_liczbe_ludnosci))"
      ],
      "execution_count": null,
      "outputs": [
        {
          "output_type": "stream",
          "text": [
            "<generator object Graph.objects at 0x7f559cb77650>\n",
            "533830\n"
          ],
          "name": "stdout"
        }
      ]
    },
    {
      "cell_type": "markdown",
      "metadata": {
        "id": "RAsS2RmkuCx7"
      },
      "source": [
        "<span style=\"color:red\"> __Zadanie 8: z grafu g1 odczytaj nazwy (RDFS.label) wszystkich miejscowosci (instancji typu <code>miejscowosc</code>)__ </span>"
      ]
    },
    {
      "cell_type": "code",
      "metadata": {
        "id": "K7sbAtPluCx8",
        "colab": {
          "base_uri": "https://localhost:8080/"
        },
        "outputId": "40df777e-7de4-4cdb-da0f-a63036cacf43"
      },
      "source": [
        "# tutaj wprowadź rozwiązanie zadania 8\n",
        "miejscowosc = URIRef('http://przyklad.org/miejscowosci#miejsc_000000000')\n",
        "for s,p,o in g1.triples( (None, RDF.type, miejscowosc) ):\n",
        "  print(g1.value(s, RDFS.label))"
      ],
      "execution_count": null,
      "outputs": [
        {
          "output_type": "stream",
          "text": [
            "Warszawa\n",
            "Poznań\n"
          ],
          "name": "stdout"
        }
      ]
    },
    {
      "cell_type": "markdown",
      "metadata": {
        "id": "BIfRQN1auCx-"
      },
      "source": [
        "<span style=\"color:red\"> __Zadanie 9: z grafu g1 odczytaj wszystkie miejscowosci, które są częścią Województwa Mazowieckiego __ </span>   "
      ]
    },
    {
      "cell_type": "code",
      "metadata": {
        "id": "n5eQRE5juCx-",
        "colab": {
          "base_uri": "https://localhost:8080/"
        },
        "outputId": "e0253e49-0bb1-4d05-c41b-e4b57cf7fdbe"
      },
      "source": [
        "# tutaj wprowadź rozwiązanie zadania 9\n",
        "ma_czesc = URIRef('http://purl.obolibrary.org/obo/BFO_0000051') \n",
        "wojewodztwo_mazowieckie = URIRef('http://przyklad.org/miejscowosci#miejsc_000000006')\n",
        "\n",
        "\n",
        "for s,p,o in g1.triples( (None, RDF.type, miejscowosc) ):\n",
        "  if (wojewodztwo_mazowieckie, ma_czesc, s) in g1:\n",
        "    print(g1.value(s, RDFS.label))"
      ],
      "execution_count": null,
      "outputs": [
        {
          "output_type": "stream",
          "text": [
            "Warszawa\n"
          ],
          "name": "stdout"
        }
      ]
    },
    {
      "cell_type": "markdown",
      "metadata": {
        "id": "e-IpdrTfuCyA"
      },
      "source": [
        "# Scenariusz: Reprezentacja zmian miejscowości w czasie. \n",
        "\n",
        "Rozważmy przykładowy scenariusz, który wywodzi się z rzeczywistej aplikacji w dziedzinie geografii historycznej i wymogów systemu realizowanego przez Instytut Historii PAN w celu reprezentacji historycznych systemów informacji geograficznej. \n",
        "Poniżej możesz przeczytać na czym pokrótce polega ten scenariusz i zagadnienia związane z opracowaniem odpowiednich modeli danych i wiedzy o miejscowościach i ich zmianach. \n",
        "Więcej na temat tego scenariusza możesz znaleźć w artykułach naukowych, np.:\n",
        "\n",
        "Garbacz Paweł; Ławrynowicz, Agnieszka; Szady Bogumił, <i>Identity Criteria for Localities</i>, In proceedings S. Borgo P. Hitzler, Kutz O (Ed.): Formal Ontology in Information Systems. Proceedings of the 10th International Conference (FOIS 2018), pp. 47-54, 2018 (artykuł jest załączony do tego ćwiczenia)\n",
        "\n",
        "a rzeczywistą ontologię miejscowości (a dokładniej jednostek osadniczych) możesz znaleźć w repozytorium na GitHubie: https://github.com/ontogeohist/ontology\n",
        "\n",
        "Zacznijmy więc od opisu naszego scenariusza:\n",
        "\n",
        "Miejscowości reprezentowane są przez: nazwę, typ (np. miasto, wieś, osada leśna, przysiółek itp.) oraz ich położenie geograficzne. \n",
        "Na przestrzeni czasu dana miejscowość mogła przejść szereg zmian, w tym zmiany nazwy (np. z <i>Katowice</i> na <i>Stalinogród</i>), zmiany typu (np  z <i>wieś</i> na <i>miasto</i>), zmiany położenia, zmiany mereologiczne (np. podział jednej miejscowości na kilka innych, absorpcja jednej miejscowości przez inną).\n",
        "Kilka przykładów takich zmian opisano w poniższej tabeli. \n",
        "   "
      ]
    },
    {
      "cell_type": "markdown",
      "metadata": {
        "id": "4o8jbsjCOUV8"
      },
      "source": [
        "\n",
        "| Nazwa początkowa | Typ początkowy | Nazwa końcowa | Typ końcowy  | Zmiana  | Zmiana tożsamości | \n",
        "| --- | --- | --- | --- | ---  | --- | \n",
        "| Katowice | miasto | Stalinogród | miasto | zmiana nazwy | nie |\n",
        "| Kleparz | miasteczko | Kleparz | dzielnica | zmiana typu | nie |\n",
        "| Holonki | wieś | Pasieczniki | wieś | absorpcja | tak | \n",
        "| Pauluk  | wieś | Pasieczniki | wieś | absorpcja | tak | \n",
        "| Konstantyniuk | wieś | Pasieczniki | wieś | absorpcja | tak | \n",
        "| Zamek | część wsi | Niedzica-Zamek| wieś | separacja | tak | \n"
      ]
    },
    {
      "cell_type": "markdown",
      "metadata": {
        "id": "N0oUH7jqOUV8"
      },
      "source": [
        "Jednym z problemów jaki występuje w tym scenariuszu, jest, wydawałoby się, prosta sprawa polegająca na podejmowaniu decyzji czy utworzyć dla nowej wersji miejscowości (np. po zmianie tylko nazwy, czy też po zmianie typu) nowy główny rekord w bazie danych, który reprezentuje zagregowaną w czasie informację na temat danej miejscowości i jej zmian w czasie, czy też nie tworzyć takiego rekordu. \n",
        "Ostatnia kolumna w tabeli wskazuje na to jakie zmiany nie powodują potrzeby utworzenia nowego głównego rekordu reprezentującego miejscowość (wartość <code>nie</code>), a jakie były na tyle duże, że spowodowały utratę tożsamości miejscowości i powstał zupełnie nowy byt (<code>tak</code>). Ziemie polskie są tutaj bardzo ciekawym przykładem, ze względu na wiele historycznych zmian, wojen, rozbiorów, zmian ustroju.    \n",
        "\n",
        "Sposób rozwiązania problemu modelowania tego scenariusza, wykorzystujący koncepcję tzw. <b>'manifestacji'</b> (które reprezentują kolejne wersje miejscowości) jest pokazany na poniższym rysunku. \n",
        "Reprezentacja każdej miejscowości składa się z dwóch części: głównego rekordu (miejscowość) i wariantów w czasie (manifestacja miejscowości).\n",
        "\n",
        " \n",
        "\n",
        "    \n"
      ]
    },
    {
      "cell_type": "markdown",
      "metadata": {
        "id": "WVDewJU_OUV9"
      },
      "source": [
        "![manifestacje.png](attachment:manifestacje.png)"
      ]
    },
    {
      "cell_type": "markdown",
      "metadata": {
        "id": "EetEE0yAOUV9"
      },
      "source": [
        "<span style=\"color:red\"> __Zadanie 10. Utwórz graf RDF, który będzie reprezentować model danych przedstawiony na powyższym rysunku oraz informacje o zmianach miejscowości przedstawione w tabeli, tj. informacje o zdarzeniu i jego typie (absorpcja, rozdzielenie itd.), w którego wyniku powstały nowe manifestacje miejscowości bądź też nawet nowa miejscowość. Utwórz nową własność aby reprezentować wynik zdarzenia (możesz np. użyć do tego celu już istniejącej relacji, np. <code>http://purl.obolibrary.org/obo/RO_0002353</code> z RO, która reprezentuje informacje o tym, że coś \"jest wynikiem\" czegoś)  \n",
        "Rozważ następujące zagadnienie: jakiego rodzaju relacją będą te zdarzenia? Binarną? A może n-arną?__ </span> "
      ]
    },
    {
      "cell_type": "code",
      "metadata": {
        "id": "rrS3l2puOUV-",
        "colab": {
          "base_uri": "https://localhost:8080/"
        },
        "outputId": "e1933497-9f90-44b9-de26-fbd90f65cc8c"
      },
      "source": [
        "# tutaj wprowadź rozwiązanie zadania 10 - jestManifestacją będzie relacją n-arną, bo miejscowość mogła powstać z n innych \n",
        "place_graph = Graph()\n",
        "\n",
        "jest_manifestacja = URIRef('http://www.ontobee.org/ontology/RO?iri=http://purl.obolibrary.org/obo/RO_0002353') \n",
        "miejscowosc = URIRef('http://przyklad.org/miejscowosci#miejsc_000000000')\n",
        "\n",
        "niedzica_zamek = URIRef(\"http://przyklad.org/miejscowosci#miejsc_0000000013\")\n",
        "katowice = URIRef(\"http://przyklad.org/miejscowosci#miejsc_0000000012\")\n",
        "kleparz = URIRef(\"http://przyklad.org/miejscowosci#miejsc_0000000010\")\n",
        "holonki = URIRef(\"http://przyklad.org/miejscowosci#miejsc_0000000015\")\n",
        "pasieczniki = URIRef(\"http://przyklad.org/miejscowosci#miejsc_0000000016\")\n",
        "pauluk = URIRef(\"http://przyklad.org/miejscowosci#miejsc_0000000017\")\n",
        "konstantyniuk = URIRef(\"http://przyklad.org/miejscowosci#miejsc_0000000018\")\n",
        "zamek = URIRef(\"http://przyklad.org/miejscowosci#miejsc_0000000019\")\n",
        "stalinogrod = URIRef(\"http://przyklad.org/miejscowosci#miejsc_0000000020\")\n",
        "\n",
        "# czy dałoby radę, żeby \"manifest\" to była klasa?\n",
        "# place_graph.add(absorpcja)\n",
        "# place_graph.add(separacja)\n",
        "# place_graph.add(zmiana_typu)\n",
        "# place_graph.add(zmiana_nazwy)\n",
        "\n",
        "manifest = URIRef(\"http://przyklad.org/miejscowosci#miejsc_0000000025\")\n",
        "absorpcja = URIRef(\"http://przyklad.org/miejscowosci#miejsc_0000000021\") # [manifest, RDFS.label, Literal(\"Absorpcja\")]\n",
        "separacja = URIRef(\"http://przyklad.org/miejscowosci#miejsc_0000000022\") # [manifest, RDFS.label, Literal(\"Separacja\")]\n",
        "zmiana_typu = URIRef(\"http://przyklad.org/miejscowosci#miejsc_0000000023\") # [manifest, RDFS.label, Literal(\"Zmiana typu\")]\n",
        "zmiana_nazwy = URIRef(\"http://przyklad.org/miejscowosci#miejsc_0000000024\") # [manifest, RDFS.label, Literal(\"Zmiana nazwy\")]\n",
        "\n",
        "\n",
        "place_graph.add([niedzica_zamek, RDFS.label, Literal(\"Niedzica Zamek\")])\n",
        "place_graph.add([niedzica_zamek, RDF.type, miejscowosc])\n",
        "place_graph.add([katowice, RDFS.label, Literal(\"Katowice\")])\n",
        "place_graph.add([katowice, RDF.type, miejscowosc])\n",
        "place_graph.add([kleparz, RDFS.label, Literal(\"Kleparz\")])\n",
        "place_graph.add([kleparz, RDF.type, miejscowosc])\n",
        "place_graph.add([holonki, RDFS.label, Literal(\"Holonki\")])\n",
        "place_graph.add([holonki, RDF.type, miejscowosc])\n",
        "place_graph.add([pasieczniki, RDFS.label, Literal(\"Pasieczniki\")])\n",
        "place_graph.add([pasieczniki, RDF.type, miejscowosc])\n",
        "place_graph.add([pauluk, RDFS.label, Literal(\"Pauluk\")])\n",
        "place_graph.add([pauluk, RDF.type, miejscowosc])\n",
        "place_graph.add([konstantyniuk, RDFS.label, Literal(\"Konstantyniuk\")])\n",
        "place_graph.add([konstantyniuk, RDF.type, miejscowosc])\n",
        "place_graph.add([zamek, RDFS.label, Literal(\"Zamek\")])\n",
        "place_graph.add([zamek, RDF.type, miejscowosc])\n",
        "place_graph.add([stalinogrod, RDFS.label, Literal(\"Stalinogród\")])\n",
        "place_graph.add([stalinogrod, RDF.type, miejscowosc])\n",
        " \n",
        "place_graph.add((pasieczniki, jest_manifestacja, holonki))\n",
        "place_graph.add((pasieczniki, jest_manifestacja, pauluk))\n",
        "place_graph.add((pasieczniki, jest_manifestacja, konstantyniuk))\n",
        "\n",
        "place_graph.add([holonki, manifest, absorpcja])\n",
        "place_graph.add([pauluk, manifest, absorpcja])\n",
        "place_graph.add([konstantyniuk, manifest, absorpcja])\n",
        "\n",
        "place_graph.add((stalinogrod, jest_manifestacja, katowice))\n",
        "place_graph.add((katowice, manifest, zmiana_nazwy))\n",
        "\n",
        "place_graph.add((kleparz, jest_manifestacja, kleparz))\n",
        "place_graph.add((kleparz, manifest, zmiana_typu))\n",
        "\n",
        "place_graph.add((niedzica_zamek, jest_manifestacja, zamek))\n",
        "place_graph.add((zamek, manifest, separacja))\n",
        "\n",
        "\n",
        "print(place_graph.serialize(format='xml'))"
      ],
      "execution_count": null,
      "outputs": [
        {
          "output_type": "stream",
          "text": [
            "b'<?xml version=\"1.0\" encoding=\"UTF-8\"?>\\n<rdf:RDF\\n   xmlns:ns1=\"http://przyklad.org/miejscowosci#\"\\n   xmlns:ns2=\"http://www.ontobee.org/ontology/RO?iri=http://purl.obolibrary.org/obo/\"\\n   xmlns:rdf=\"http://www.w3.org/1999/02/22-rdf-syntax-ns#\"\\n   xmlns:rdfs=\"http://www.w3.org/2000/01/rdf-schema#\"\\n>\\n  <rdf:Description rdf:about=\"http://przyklad.org/miejscowosci#miejsc_0000000016\">\\n    <ns2:RO_0002353 rdf:resource=\"http://przyklad.org/miejscowosci#miejsc_0000000015\"/>\\n    <rdfs:label>Pasieczniki</rdfs:label>\\n    <ns2:RO_0002353 rdf:resource=\"http://przyklad.org/miejscowosci#miejsc_0000000018\"/>\\n    <ns2:RO_0002353 rdf:resource=\"http://przyklad.org/miejscowosci#miejsc_0000000017\"/>\\n    <rdf:type rdf:resource=\"http://przyklad.org/miejscowosci#miejsc_000000000\"/>\\n  </rdf:Description>\\n  <rdf:Description rdf:about=\"http://przyklad.org/miejscowosci#miejsc_0000000012\">\\n    <rdf:type rdf:resource=\"http://przyklad.org/miejscowosci#miejsc_000000000\"/>\\n    <rdfs:label>Katowice</rdfs:label>\\n    <ns1:miejsc_0000000025 rdf:resource=\"http://przyklad.org/miejscowosci#miejsc_0000000024\"/>\\n  </rdf:Description>\\n  <rdf:Description rdf:about=\"http://przyklad.org/miejscowosci#miejsc_0000000018\">\\n    <ns1:miejsc_0000000025 rdf:resource=\"http://przyklad.org/miejscowosci#miejsc_0000000021\"/>\\n    <rdfs:label>Konstantyniuk</rdfs:label>\\n    <rdf:type rdf:resource=\"http://przyklad.org/miejscowosci#miejsc_000000000\"/>\\n  </rdf:Description>\\n  <rdf:Description rdf:about=\"http://przyklad.org/miejscowosci#miejsc_0000000010\">\\n    <ns2:RO_0002353 rdf:resource=\"http://przyklad.org/miejscowosci#miejsc_0000000010\"/>\\n    <ns1:miejsc_0000000025 rdf:resource=\"http://przyklad.org/miejscowosci#miejsc_0000000023\"/>\\n    <rdf:type rdf:resource=\"http://przyklad.org/miejscowosci#miejsc_000000000\"/>\\n    <rdfs:label>Kleparz</rdfs:label>\\n  </rdf:Description>\\n  <rdf:Description rdf:about=\"http://przyklad.org/miejscowosci#miejsc_0000000013\">\\n    <ns2:RO_0002353 rdf:resource=\"http://przyklad.org/miejscowosci#miejsc_0000000019\"/>\\n    <rdf:type rdf:resource=\"http://przyklad.org/miejscowosci#miejsc_000000000\"/>\\n    <rdfs:label>Niedzica Zamek</rdfs:label>\\n  </rdf:Description>\\n  <rdf:Description rdf:about=\"http://przyklad.org/miejscowosci#miejsc_0000000015\">\\n    <ns1:miejsc_0000000025 rdf:resource=\"http://przyklad.org/miejscowosci#miejsc_0000000021\"/>\\n    <rdf:type rdf:resource=\"http://przyklad.org/miejscowosci#miejsc_000000000\"/>\\n    <rdfs:label>Holonki</rdfs:label>\\n  </rdf:Description>\\n  <rdf:Description rdf:about=\"http://przyklad.org/miejscowosci#miejsc_0000000020\">\\n    <ns2:RO_0002353 rdf:resource=\"http://przyklad.org/miejscowosci#miejsc_0000000012\"/>\\n    <rdfs:label>Stalinogr\\xc3\\xb3d</rdfs:label>\\n    <rdf:type rdf:resource=\"http://przyklad.org/miejscowosci#miejsc_000000000\"/>\\n  </rdf:Description>\\n  <rdf:Description rdf:about=\"http://przyklad.org/miejscowosci#miejsc_0000000017\">\\n    <rdfs:label>Pauluk</rdfs:label>\\n    <ns1:miejsc_0000000025 rdf:resource=\"http://przyklad.org/miejscowosci#miejsc_0000000021\"/>\\n    <rdf:type rdf:resource=\"http://przyklad.org/miejscowosci#miejsc_000000000\"/>\\n  </rdf:Description>\\n  <rdf:Description rdf:about=\"http://przyklad.org/miejscowosci#miejsc_0000000019\">\\n    <ns1:miejsc_0000000025 rdf:resource=\"http://przyklad.org/miejscowosci#miejsc_0000000022\"/>\\n    <rdf:type rdf:resource=\"http://przyklad.org/miejscowosci#miejsc_000000000\"/>\\n    <rdfs:label>Zamek</rdfs:label>\\n  </rdf:Description>\\n</rdf:RDF>\\n'\n"
          ],
          "name": "stdout"
        }
      ]
    }
  ]
}