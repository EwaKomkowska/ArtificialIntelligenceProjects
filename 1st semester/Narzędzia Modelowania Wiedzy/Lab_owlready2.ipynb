{
  "nbformat": 4,
  "nbformat_minor": 0,
  "metadata": {
    "colab": {
      "name": "[NMW] Lab - owlready2.ipynb",
      "provenance": [],
      "collapsed_sections": [
        "olZtqmxdj4pc",
        "UFSJuoWnIKkz",
        "yGNDXOO3InR2",
        "PDHbFfSAK9DK",
        "sz1NllUJLXWk",
        "DXRjVnb1NbHW",
        "7WtV198qNmpL"
      ],
      "toc_visible": true
    },
    "kernelspec": {
      "name": "python3",
      "display_name": "Python 3"
    },
    "language_info": {
      "name": "python"
    }
  },
  "cells": [
    {
      "cell_type": "markdown",
      "metadata": {
        "id": "olZtqmxdj4pc"
      },
      "source": [
        "# Czym jest owlready2\n",
        "\n",
        "Pakiet Pythona pomocny w pracy z ontologiami reprezentowanymi w języku OWL. Umożliwia:\n",
        "\n",
        "- programowanie obiektowe ukierunkowane na ontologie \n",
        "- wykorzystanie ekspresyjności ontologii w zakresie języka OWL\n",
        "- szybkie ładowanie bardzo dużych ontologii (dziesiątki lub setki gigabajtów)\n",
        " \n",
        "\n",
        "Owlready zawiera wewnętrzną grafową bazę (*quadstore*), która uwzględnia semantykę OWL. Baza zawiera czwórki w formacie RDF, gdzie do RDFowej trójki dodawany jest identyfikator ontologii.\n",
        "Ta baza czwórek może być umieszczona w pamięci RAM, na dysku lub w formie pliku bazy danych SQLite3.\n",
        "OWlready ładuje encje ontologii do Pyhtona na żądanie, wtedy kiedy są używane.\n",
        "Jeśli encje zostaną zmodyfikowane w Pythonie, owlready automatycznie aktualizuje bazę czwórek.\n",
        "\n",
        "# Przykład - ontologia zwierząt domowych\n",
        "\n",
        "Żeby zilustrować możliwości Owlready2 zajmiemy się prostym przykładem  ontologii o zwierzętach domowych.\n",
        "Dla przykładu, uwzględnimy charakterystyki takie jak:\n",
        "1.   Pochodzenie: z hodowli, ze schroniska.\n",
        "2.   Spożywany pokarm: roślinny, zwierzęcy.\n",
        "3.   Rozmiar, waga, itp.\n",
        "\n",
        "# Dostęp do ontologii w Pythonie\n",
        "\n",
        "## Import owlready\n",
        "Zaimportujmy owlready (wersja 2) do Pythona:\n",
        "\n",
        "\n",
        "\n",
        "\n",
        "\n",
        "\n",
        "\n",
        "\n"
      ]
    },
    {
      "cell_type": "code",
      "metadata": {
        "colab": {
          "base_uri": "https://localhost:8080/"
        },
        "id": "S321TZeGtNna",
        "outputId": "ee5e1d62-8d40-4c69-e550-6c0135d9cff4"
      },
      "source": [
        "!pip install owlready2\n",
        "from owlready2 import *"
      ],
      "execution_count": 1,
      "outputs": [
        {
          "output_type": "stream",
          "text": [
            "Collecting owlready2\n",
            "\u001b[?25l  Downloading https://files.pythonhosted.org/packages/a5/be/8202aa87b939a758acb997ab74a37951e5ca23adf44e68faa6386479e002/Owlready2-0.31.tar.gz (23.7MB)\n",
            "\u001b[K     |████████████████████████████████| 23.7MB 51.4MB/s \n",
            "\u001b[?25hBuilding wheels for collected packages: owlready2\n",
            "  Building wheel for owlready2 (setup.py) ... \u001b[?25l\u001b[?25hdone\n",
            "  Created wheel for owlready2: filename=Owlready2-0.31-cp37-cp37m-linux_x86_64.whl size=20409701 sha256=22f922dd3964d0378316f2bb9e342c0393bb5534213057a5e2841a74a5cb75fd\n",
            "  Stored in directory: /root/.cache/pip/wheels/9d/17/e4/54fb8381c51746a0d686b06ef3e3f607789defd8e1580bcb1b\n",
            "Successfully built owlready2\n",
            "Installing collected packages: owlready2\n",
            "Successfully installed owlready2-0.31\n"
          ],
          "name": "stdout"
        }
      ]
    },
    {
      "cell_type": "markdown",
      "metadata": {
        "id": "ShELV1ectoal"
      },
      "source": [
        "## Ładowanie ontologii\n",
        "Owlready pozwala załadować ontologię OWL do Pythona i mieć dostęp do encji ontologii tak jak do obiektów w module Pythona. \n",
        "Ontologię można załadować na trzy różne sposoby:\n",
        "\n",
        "1. Poprzez IRI (adres w Internecie).\n",
        "2. Z lokalnego pliku.\n",
        "3. Z obiektu pliku poprzez `open()`, `urlopen()` i inne funkcje.\n",
        "\n",
        "Obsługiwane formaty plików to: RDF/MXL, OWL/XML i N-Triples.\n",
        "\n",
        "Załadujmy ontologię z lokalnego pliku:\n",
        "\n",
        "\n",
        "\n",
        "\n"
      ]
    },
    {
      "cell_type": "code",
      "metadata": {
        "id": "gWWbUP2btn2Q"
      },
      "source": [
        "onto = get_ontology(\"zwierzeta.owl\").load()"
      ],
      "execution_count": 3,
      "outputs": []
    },
    {
      "cell_type": "markdown",
      "metadata": {
        "id": "C1rrBHuavzom"
      },
      "source": [
        "Atrybut `base_iri` ontologii pozwala pozyskać jej IRI:"
      ]
    },
    {
      "cell_type": "code",
      "metadata": {
        "id": "eaH7vTpav70k",
        "colab": {
          "base_uri": "https://localhost:8080/"
        },
        "outputId": "1cabc5ef-d881-49aa-8963-fcb9dfb51198"
      },
      "source": [
        "print(onto.base_iri)"
      ],
      "execution_count": 5,
      "outputs": [
        {
          "output_type": "stream",
          "text": [
            "http://www.semanticweb.org/ontologies/zwierzeta#\n"
          ],
          "name": "stdout"
        }
      ]
    },
    {
      "cell_type": "markdown",
      "metadata": {
        "id": "ia7msurFwT-Y"
      },
      "source": [
        "## Listowanie zawartości ontologii\n",
        "\n",
        "Obiekt ontologii zawiera wiele metod do poruszania się po encjach zawartych w ontologii, w zależności od ich typu.\n",
        "Te metody zwracają generatory. Żeby wyświetlić zawartość możemy użyć funkcji Pythona `list()`, która konwertuje generator na listę.\n",
        "Przykładowo, wyświetlmy klasy ontologii:\n"
      ]
    },
    {
      "cell_type": "code",
      "metadata": {
        "id": "-y8lIqMDxNZn",
        "colab": {
          "base_uri": "https://localhost:8080/"
        },
        "outputId": "20253440-f5b0-4397-ba48-aeacf05212a7"
      },
      "source": [
        "print(onto.classes())\n",
        "list(onto.classes())"
      ],
      "execution_count": 6,
      "outputs": [
        {
          "output_type": "stream",
          "text": [
            "<generator object _GraphManager.classes at 0x7f60ff68f0d0>\n"
          ],
          "name": "stdout"
        },
        {
          "output_type": "execute_result",
          "data": {
            "text/plain": [
              "[zwierzeta.Charakterystyka,\n",
              " zwierzeta.Chomik,\n",
              " zwierzeta.Hodowla,\n",
              " zwierzeta.Kot,\n",
              " zwierzeta.Królik,\n",
              " zwierzeta.MałeZwierzę,\n",
              " zwierzeta.Owłosienie,\n",
              " zwierzeta.Pies,\n",
              " zwierzeta.Pochodzenie,\n",
              " zwierzeta.Pokarm,\n",
              " zwierzeta.PokarmRoślinny,\n",
              " zwierzeta.PokarmZwierzęcy,\n",
              " zwierzeta.Ptak,\n",
              " zwierzeta.Rybka,\n",
              " zwierzeta.Schronisko,\n",
              " zwierzeta.Waga,\n",
              " zwierzeta.Wszystkożerca,\n",
              " zwierzeta.ZwierzęDomowe,\n",
              " zwierzeta.ŚwinkaMorska]"
            ]
          },
          "metadata": {
            "tags": []
          },
          "execution_count": 6
        }
      ]
    },
    {
      "cell_type": "markdown",
      "metadata": {
        "id": "eMtqI-SXxbV9"
      },
      "source": [
        "Jednak lepiej nie używać `list()` gdy generator jest obecny w pętli, w celu polepszenia wydajności:\n"
      ]
    },
    {
      "cell_type": "code",
      "metadata": {
        "id": "9gQwTvLExr9x",
        "colab": {
          "base_uri": "https://localhost:8080/"
        },
        "outputId": "59f913c5-f56b-41ca-a336-1e37f7b42681"
      },
      "source": [
        "for c in onto.classes(): print (c.name)"
      ],
      "execution_count": 7,
      "outputs": [
        {
          "output_type": "stream",
          "text": [
            "Charakterystyka\n",
            "Chomik\n",
            "Hodowla\n",
            "Kot\n",
            "Królik\n",
            "MałeZwierzę\n",
            "Owłosienie\n",
            "Pies\n",
            "Pochodzenie\n",
            "Pokarm\n",
            "PokarmRoślinny\n",
            "PokarmZwierzęcy\n",
            "Ptak\n",
            "Rybka\n",
            "Schronisko\n",
            "Waga\n",
            "Wszystkożerca\n",
            "ZwierzęDomowe\n",
            "ŚwinkaMorska\n"
          ],
          "name": "stdout"
        }
      ]
    },
    {
      "cell_type": "markdown",
      "metadata": {
        "id": "ftRnqanxx2F4"
      },
      "source": [
        "<span style=\"color:red\"> __Zadanie 1: Wylistuj własności w ontologii, używając do tego celu metody `properties()` __ </span>"
      ]
    },
    {
      "cell_type": "code",
      "metadata": {
        "id": "69Bm2nHvyJFP",
        "colab": {
          "base_uri": "https://localhost:8080/"
        },
        "outputId": "cd65f1d8-8172-4c17-cd77-28bf7dbb41d2"
      },
      "source": [
        "#tutaj wprowadź rozwiązanie zadania 1\n",
        "for c in onto.properties(): \n",
        "  print (c.name)"
      ],
      "execution_count": 8,
      "outputs": [
        {
          "output_type": "stream",
          "text": [
            "ma_wartość\n",
            "je\n",
            "ma_charakterystykę\n",
            "ma_część\n",
            "ma_funkcję\n",
            "pochodzi_z\n"
          ],
          "name": "stdout"
        }
      ]
    },
    {
      "cell_type": "markdown",
      "metadata": {
        "id": "D_jEnKhzyRHV"
      },
      "source": [
        "## Dostęp do encji\n",
        "\n",
        "Obiekty Pythona służące do dostępu do encji są tworzone dynamicznie, na żądanie. \n",
        "Pseudo-słownik IRIS pozwala na dostęp do każdej encji poprzez jej IRI. Np. żeby aby pozyskać dostęp do encji \"kot\" możemy użyć jej całego IRI albo skróconej wersji notacji:\n"
      ]
    },
    {
      "cell_type": "code",
      "metadata": {
        "id": "0-kPZjQIzMDJ",
        "colab": {
          "base_uri": "https://localhost:8080/"
        },
        "outputId": "a310c015-ab3c-4f5c-a3ad-70a252c995de"
      },
      "source": [
        "#dostęp do encji poprzez IRIS\n",
        "print(IRIS[\"http://www.semanticweb.org/ontologies/zwierzeta#Kot\"])\n",
        "\n",
        "#dostęp do encji poprzez skrócony zapis\n",
        "print(onto.Kot)\n"
      ],
      "execution_count": 9,
      "outputs": [
        {
          "output_type": "stream",
          "text": [
            "zwierzeta.Kot\n",
            "zwierzeta.Kot\n"
          ],
          "name": "stdout"
        }
      ]
    },
    {
      "cell_type": "markdown",
      "metadata": {
        "id": "I43Hc9690lkx"
      },
      "source": [
        "Jeśli nazwa (etykieta) encji zawiera znaki nie wspierane przez Pythona, można użyć też składni:"
      ]
    },
    {
      "cell_type": "code",
      "metadata": {
        "id": "122e0IFT0wka",
        "colab": {
          "base_uri": "https://localhost:8080/"
        },
        "outputId": "f23fc1c3-f5f5-4e54-9092-767ec6f35fa0"
      },
      "source": [
        "onto[\"Kot\"]"
      ],
      "execution_count": 10,
      "outputs": [
        {
          "output_type": "execute_result",
          "data": {
            "text/plain": [
              "zwierzeta.Kot"
            ]
          },
          "metadata": {
            "tags": []
          },
          "execution_count": 10
        }
      ]
    },
    {
      "cell_type": "markdown",
      "metadata": {
        "id": "W7JZAVPJ3dIz"
      },
      "source": [
        "__Zadanie 2: Wyświetl serializację obiektu o etykiecie 'Chomik' __"
      ]
    },
    {
      "cell_type": "code",
      "metadata": {
        "id": "1a1E33Nx30V_",
        "colab": {
          "base_uri": "https://localhost:8080/"
        },
        "outputId": "195d1441-4e04-42d3-d38c-11b01fd320ba"
      },
      "source": [
        "#tutaj wprowadź rozwiązanie zadania 2\n",
        "print(IRIS[\"http://www.semanticweb.org/ontologies/zwierzeta#Chomik\"])\n",
        "print(onto[\"Chomik\"])\n",
        "onto.Chomik"
      ],
      "execution_count": 13,
      "outputs": [
        {
          "output_type": "stream",
          "text": [
            "zwierzeta.Chomik\n",
            "zwierzeta.Chomik\n"
          ],
          "name": "stdout"
        },
        {
          "output_type": "execute_result",
          "data": {
            "text/plain": [
              "zwierzeta.Chomik"
            ]
          },
          "metadata": {
            "tags": []
          },
          "execution_count": 13
        }
      ]
    },
    {
      "cell_type": "markdown",
      "metadata": {
        "id": "7RkYdCN4Qg-S"
      },
      "source": [
        "### Indywidua\n",
        "\n",
        "Indywiduami można manipulować tak jakby były zwykłymi obiektami Pythona. Można testować ich przynależność do klasy za pomocą funkcji `isinstance()`, tak jak w przypadku dowolnych obiektów Pythona."
      ]
    },
    {
      "cell_type": "code",
      "metadata": {
        "id": "NcWiuHp-RS69",
        "colab": {
          "base_uri": "https://localhost:8080/"
        },
        "outputId": "8e51f26d-0e0a-489b-f45d-9784004d23b6"
      },
      "source": [
        "isinstance(onto.Kajtek, onto.Kot)"
      ],
      "execution_count": 14,
      "outputs": [
        {
          "output_type": "execute_result",
          "data": {
            "text/plain": [
              "True"
            ]
          },
          "metadata": {
            "tags": []
          },
          "execution_count": 14
        }
      ]
    },
    {
      "cell_type": "markdown",
      "metadata": {
        "id": "yeY7HIZB35r7"
      },
      "source": [
        "### Klasy\n",
        "Dostęp do klas powiązanych z daną klasą możemy uzyskać poprzez notację z '.'. Klasy ontologii są prawdziwymi klasami w Pythonie i mogą być tak używane. \n",
        "Np. funkcja `issubclass()` testuje czy klasa jest potomkiem (podklasą, podklasą podklasy itp.) innej klasy:"
      ]
    },
    {
      "cell_type": "code",
      "metadata": {
        "id": "epnEG4Um4KHB",
        "colab": {
          "base_uri": "https://localhost:8080/"
        },
        "outputId": "b68b8e45-ceb1-4a69-9236-67e60c78390e"
      },
      "source": [
        "issubclass(onto.Kot, onto.ZwierzęDomowe)"
      ],
      "execution_count": 15,
      "outputs": [
        {
          "output_type": "execute_result",
          "data": {
            "text/plain": [
              "True"
            ]
          },
          "metadata": {
            "tags": []
          },
          "execution_count": 15
        }
      ]
    },
    {
      "cell_type": "markdown",
      "metadata": {
        "id": "5Yh1Xq0D5eih"
      },
      "source": [
        "Najlepiej jest jednak użyć atrybutu `is_a`, który także zawiera ograniczenia i konstruktory logiczne."
      ]
    },
    {
      "cell_type": "code",
      "metadata": {
        "id": "JoJk0rLB528k",
        "colab": {
          "base_uri": "https://localhost:8080/"
        },
        "outputId": "9cfbdbe2-c446-4a4f-c496-3445ec70fa52"
      },
      "source": [
        "onto.Kot.is_a"
      ],
      "execution_count": 16,
      "outputs": [
        {
          "output_type": "execute_result",
          "data": {
            "text/plain": [
              "[zwierzeta.ZwierzęDomowe]"
            ]
          },
          "metadata": {
            "tags": []
          },
          "execution_count": 16
        }
      ]
    },
    {
      "cell_type": "markdown",
      "metadata": {
        "id": "2alKSRxpR3g6"
      },
      "source": [
        "Możemy także użyć `is_a` aby odpytać o klasy danego indywiduum.\n",
        "\n",
        "__Zadanie 3: Użyj `is_a` aby wyświetlić listę klas, do których przynależy indywiduum `Kajtek` __\n",
        "\n"
      ]
    },
    {
      "cell_type": "code",
      "metadata": {
        "id": "DoesquPjSMas",
        "colab": {
          "base_uri": "https://localhost:8080/"
        },
        "outputId": "68ccdb24-b9d3-4bfe-fcd3-1a1ae4ce6fec"
      },
      "source": [
        "#tutaj wprowadź rozwiązanie zadania 3\n",
        "onto.Kajtek.is_a"
      ],
      "execution_count": 20,
      "outputs": [
        {
          "output_type": "execute_result",
          "data": {
            "text/plain": [
              "[zwierzeta.Kot]"
            ]
          },
          "metadata": {
            "tags": []
          },
          "execution_count": 20
        }
      ]
    },
    {
      "cell_type": "markdown",
      "metadata": {
        "id": "sKxvTjUQ6Mog"
      },
      "source": [
        "Metoda `subclasses()` zwraca listę klasy dzieci (pamiętajmy, że jest to w formie generatora)"
      ]
    },
    {
      "cell_type": "code",
      "metadata": {
        "id": "mfX9Wscd6mBw",
        "colab": {
          "base_uri": "https://localhost:8080/"
        },
        "outputId": "7e92a090-3f18-4e41-8362-3c7808bc0824"
      },
      "source": [
        "list(onto.ZwierzęDomowe.subclasses())"
      ],
      "execution_count": 18,
      "outputs": [
        {
          "output_type": "execute_result",
          "data": {
            "text/plain": [
              "[zwierzeta.Kot,\n",
              " zwierzeta.MałeZwierzę,\n",
              " zwierzeta.Pies,\n",
              " zwierzeta.Ptak,\n",
              " zwierzeta.Rybka]"
            ]
          },
          "metadata": {
            "tags": []
          },
          "execution_count": 18
        }
      ]
    },
    {
      "cell_type": "markdown",
      "metadata": {
        "id": "CL-qkf3H6wV3"
      },
      "source": [
        "Metody `ancestors()` i `descendants()` są używane do pozyskania zbioru przodków i potomków."
      ]
    },
    {
      "cell_type": "markdown",
      "metadata": {
        "id": "dJG0Dwr96-3N"
      },
      "source": [
        "__Zadanie 4: Wyświetl przodków oraz potomków obiektu o etykiecie 'MałeZwierzę' __"
      ]
    },
    {
      "cell_type": "code",
      "metadata": {
        "id": "NfLj9kGR7M40",
        "colab": {
          "base_uri": "https://localhost:8080/"
        },
        "outputId": "e868120f-9a96-4131-dbae-f6d793a57b7f"
      },
      "source": [
        "#tutaj wprowadź rozwiązanie zadania 4\n",
        "print(onto[\"MałeZwierzę\"].ancestors())\n",
        "onto[\"MałeZwierzę\"].descendants()"
      ],
      "execution_count": 21,
      "outputs": [
        {
          "output_type": "stream",
          "text": [
            "{owl.Thing, zwierzeta.ZwierzęDomowe, zwierzeta.MałeZwierzę}\n"
          ],
          "name": "stdout"
        },
        {
          "output_type": "execute_result",
          "data": {
            "text/plain": [
              "{zwierzeta.Chomik,\n",
              " zwierzeta.Królik,\n",
              " zwierzeta.MałeZwierzę,\n",
              " zwierzeta.ŚwinkaMorska}"
            ]
          },
          "metadata": {
            "tags": []
          },
          "execution_count": 21
        }
      ]
    },
    {
      "cell_type": "markdown",
      "metadata": {
        "id": "Cm1GataT844N"
      },
      "source": [
        "Możemy także chcieć pozyskać dostęp do klas, które są semantycznie równoważne:\n"
      ]
    },
    {
      "cell_type": "code",
      "metadata": {
        "id": "a8MD5_-J9D79",
        "colab": {
          "base_uri": "https://localhost:8080/"
        },
        "outputId": "4219d19e-7acf-4359-a876-6c339de4373f"
      },
      "source": [
        "onto.Wszystkożerca.equivalent_to"
      ],
      "execution_count": 22,
      "outputs": [
        {
          "output_type": "execute_result",
          "data": {
            "text/plain": [
              "[zwierzeta.je.some(zwierzeta.PokarmRoślinny) & zwierzeta.je.some(zwierzeta.PokarmZwierzęcy)]"
            ]
          },
          "metadata": {
            "tags": []
          },
          "execution_count": 22
        }
      ]
    },
    {
      "cell_type": "markdown",
      "metadata": {
        "id": "59PyNsFVMO9j"
      },
      "source": [
        "### Relacje\n",
        "Relacje (właściwości) poprzez jakie jest powiązane z innymi dane indywiduum można pozyskać używając notacji \"individual.attribute\", np.:"
      ]
    },
    {
      "cell_type": "code",
      "metadata": {
        "colab": {
          "base_uri": "https://localhost:8080/"
        },
        "id": "WQgvLz08-4cC",
        "outputId": "469c46fe-c1ac-4a47-86f2-029313183af6"
      },
      "source": [
        "onto.Figaro.ma_charakterystykę"
      ],
      "execution_count": 23,
      "outputs": [
        {
          "output_type": "execute_result",
          "data": {
            "text/plain": [
              "[zwierzeta.wagaFigaro]"
            ]
          },
          "metadata": {
            "tags": []
          },
          "execution_count": 23
        }
      ]
    },
    {
      "cell_type": "markdown",
      "metadata": {
        "id": "30vNjkYw_sHV"
      },
      "source": [
        "__Zadanie 5: Wyświetl wartość relacji (właściwości) ma_wartość z jaką jest powiązana instancja 'wagaFigaro' __"
      ]
    },
    {
      "cell_type": "code",
      "metadata": {
        "id": "a0ciCiTfAHPB",
        "colab": {
          "base_uri": "https://localhost:8080/"
        },
        "outputId": "fbf6cd5f-8dfc-4b50-af68-d4558303187d"
      },
      "source": [
        "#tutaj wprowadź rozwiązanie zadania 5\n",
        "onto.wagaFigaro.ma_wartość "
      ],
      "execution_count": 24,
      "outputs": [
        {
          "output_type": "execute_result",
          "data": {
            "text/plain": [
              "[5]"
            ]
          },
          "metadata": {
            "tags": []
          },
          "execution_count": 24
        }
      ]
    },
    {
      "cell_type": "markdown",
      "metadata": {
        "id": "4Il4jKy9AaD6"
      },
      "source": [
        "# Tworzenie i modyfikowanie ontologii\n",
        "## Tworzenie pustej ontologii\n",
        "Funkcja `get_ontology()` pozwala na utworzenie pustej ontologii na bazie IRI. Preferowany jest separator \"#\" lub \"/\" na końcu IRI, ponieważ owlready nie może się ich \"domyślić\" z uwagi na to, że ontologia jest pusta."
      ]
    },
    {
      "cell_type": "code",
      "metadata": {
        "id": "RJSbe9d8BBA_"
      },
      "source": [
        "onto_nowa = get_ontology(\"http://przyklad.org/onto_nowa.owl#\")"
      ],
      "execution_count": 25,
      "outputs": []
    },
    {
      "cell_type": "markdown",
      "metadata": {
        "id": "VOerjjBlBPhp"
      },
      "source": [
        "##Tworzenie klas\n",
        "Aby utworzyć klasę, po prostu utwórz klasę Pythona, która dziedziczy z `Thing`.\n",
        "Przykładowo, możemy utworzyć klasę KotBrytyjski w następujący sposób:"
      ]
    },
    {
      "cell_type": "code",
      "metadata": {
        "id": "67AuzPBBBr28"
      },
      "source": [
        "with onto:\n",
        "  class KotBrytyjski(Thing): pass"
      ],
      "execution_count": 26,
      "outputs": []
    },
    {
      "cell_type": "markdown",
      "metadata": {
        "id": "WvDBSVv1B5Q6"
      },
      "source": [
        "Żeby obserwować co dzieje się w repozytorium \"czwórek\" owlready, możemy użyć funkcji `set_log_level()`. Poniżej znajduje się przykład ustwaienia poziomo logowania na 9 (najwyższy poziom). Możemy teraz obserwować jakie trójki RDF są dodawane, usuwane, modyfikowane."
      ]
    },
    {
      "cell_type": "code",
      "metadata": {
        "id": "89gCK6R3CSd8",
        "colab": {
          "base_uri": "https://localhost:8080/"
        },
        "outputId": "c611a913-2c88-49a4-b435-7dc51662f892"
      },
      "source": [
        "set_log_level(9)\n",
        "with onto:\n",
        "  class KotSyberyjski(Thing): pass"
      ],
      "execution_count": 27,
      "outputs": [
        {
          "output_type": "stream",
          "text": [
            "* Owlready2 * ADD TRIPLE http://www.semanticweb.org/ontologies/zwierzeta#KotSyberyjski http://www.w3.org/1999/02/22-rdf-syntax-ns#type http://www.w3.org/2002/07/owl#Class\n",
            "* Owlready2 * ADD TRIPLE http://www.semanticweb.org/ontologies/zwierzeta#KotSyberyjski http://www.w3.org/2000/01/rdf-schema#subClassOf http://www.w3.org/2002/07/owl#Thing\n"
          ],
          "name": "stderr"
        }
      ]
    },
    {
      "cell_type": "markdown",
      "metadata": {
        "id": "ftb_NOgDDHwJ"
      },
      "source": [
        "__Zadanie 6: Utwórz nową klasę 'KotPerski' jako podklasę klasy 'Kot' __\n"
      ]
    },
    {
      "cell_type": "code",
      "metadata": {
        "id": "kVw_TMMMDQ-n",
        "colab": {
          "base_uri": "https://localhost:8080/"
        },
        "outputId": "8b484ea9-353d-4c6b-b0ed-18250a26e7af"
      },
      "source": [
        "#tutaj wprowadź rozwiązanie zadania 6\n",
        "with onto:\n",
        "  class KotPerski(onto.Kot): pass"
      ],
      "execution_count": 28,
      "outputs": [
        {
          "output_type": "stream",
          "text": [
            "* Owlready2 * ADD TRIPLE http://www.semanticweb.org/ontologies/zwierzeta#KotPerski http://www.w3.org/1999/02/22-rdf-syntax-ns#type http://www.w3.org/2002/07/owl#Class\n",
            "* Owlready2 * ADD TRIPLE http://www.semanticweb.org/ontologies/zwierzeta#KotPerski http://www.w3.org/2000/01/rdf-schema#subClassOf http://www.semanticweb.org/ontologies/zwierzeta#Kot\n"
          ],
          "name": "stderr"
        }
      ]
    },
    {
      "cell_type": "markdown",
      "metadata": {
        "id": "xqWHBJGgC-Xq"
      },
      "source": [
        "Klasy możemy tworzyć w sposób dynamiczny, wtedy kiedy nie znamy nazwy klasy w trakcie tworzenia programu, ale jest dostępna w trakcie jego działania."
      ]
    },
    {
      "cell_type": "code",
      "metadata": {
        "id": "YbGHOHwjDoAi",
        "colab": {
          "base_uri": "https://localhost:8080/"
        },
        "outputId": "e25dd431-ae77-4699-cf6e-1feefea62e8e"
      },
      "source": [
        "import types\n",
        "nazwa_klasy = \"NowaKlasa\"\n",
        "Nadklasy = [Thing, onto.Kot]\n",
        "with onto:\n",
        "  NowaKlasa = types.new_class(nazwa_klasy, tuple (Nadklasy))"
      ],
      "execution_count": 29,
      "outputs": [
        {
          "output_type": "stream",
          "text": [
            "* Owlready2 * ADD TRIPLE http://www.semanticweb.org/ontologies/zwierzeta#NowaKlasa http://www.w3.org/1999/02/22-rdf-syntax-ns#type http://www.w3.org/2002/07/owl#Class\n",
            "* Owlready2 * ADD TRIPLE http://www.semanticweb.org/ontologies/zwierzeta#NowaKlasa http://www.w3.org/2000/01/rdf-schema#subClassOf http://www.semanticweb.org/ontologies/zwierzeta#Kot\n",
            "* Owlready2 * ADD TRIPLE http://www.semanticweb.org/ontologies/zwierzeta#NowaKlasa http://www.w3.org/2000/01/rdf-schema#subClassOf http://www.w3.org/2002/07/owl#Thing\n"
          ],
          "name": "stderr"
        }
      ]
    },
    {
      "cell_type": "markdown",
      "metadata": {
        "id": "-clrLdoLFEI4"
      },
      "source": [
        "Zwróć uwagę, że w powyższym przykładzie zostało także wykorzystane wielokrotne dziedziczenie."
      ]
    },
    {
      "cell_type": "markdown",
      "metadata": {
        "id": "T8ZLkKrBEKn9"
      },
      "source": [
        "## Tworzenie właściwości\n",
        "W owlreaady właściwości są traktowane podobnie do klas (szczególnie jeśli chodzi o wsparcie dziedziczenia).\n",
        "Właściwości są pewnego rodzaju \"klasami relacji\". \n",
        "Właściwości są tworzone poprzez definiowanie klasy, która dziedziczy z `DataProperty`, `ObjectProperty` lub `AnnotationProperty`. \n",
        "Dodatkowo klasy oznaczające charakterystyki właściwości takiej jak `FunctionalProperty`, `InverseFunctionalProperty`, `TransitiveProperty`, `SymmetricProperty` itd. mogą być użyte jako dodatkowe nadklasy.\n",
        "Atrybuty klasy `domain` i `range` są wykorzystywane aby odpytywać lub definiować dziedzinę i przeciwdziedzinę właściwości, w formie listy.\n",
        "Przykładowo, możemy chcieć utworzyć właściwość funkcyjną `typ_owłosienia`:"
      ]
    },
    {
      "cell_type": "code",
      "metadata": {
        "id": "jH_9bC97Ghqc",
        "colab": {
          "base_uri": "https://localhost:8080/"
        },
        "outputId": "d7efe1e4-627f-457e-a99b-ac26808023e0"
      },
      "source": [
        "with onto:\n",
        "   class typ_owlosienia(ObjectProperty, FunctionalProperty):\n",
        "      domain = [onto['ZwierzęDomowe']]\n",
        "      range = [onto['Owłosienie']]"
      ],
      "execution_count": 30,
      "outputs": [
        {
          "output_type": "stream",
          "text": [
            "* Owlready2 * ADD TRIPLE http://www.semanticweb.org/ontologies/zwierzeta#typ_owlosienia http://www.w3.org/1999/02/22-rdf-syntax-ns#type http://www.w3.org/2002/07/owl#ObjectProperty\n",
            "* Owlready2 * ADD TRIPLE http://www.semanticweb.org/ontologies/zwierzeta#typ_owlosienia http://www.w3.org/1999/02/22-rdf-syntax-ns#type http://www.w3.org/2002/07/owl#FunctionalProperty\n",
            "* Owlready2 * ADD TRIPLE http://www.semanticweb.org/ontologies/zwierzeta#typ_owlosienia http://www.w3.org/2000/01/rdf-schema#domain http://www.semanticweb.org/ontologies/zwierzeta#ZwierzęDomowe\n",
            "* Owlready2 * ADD TRIPLE http://www.semanticweb.org/ontologies/zwierzeta#typ_owlosienia http://www.w3.org/2000/01/rdf-schema#range http://www.semanticweb.org/ontologies/zwierzeta#Owłosienie\n"
          ],
          "name": "stderr"
        }
      ]
    },
    {
      "cell_type": "markdown",
      "metadata": {
        "id": "blbqcWkEIuFq"
      },
      "source": [
        "__Zadanie 7: Utwórz właściwość (`DataProperty`) o nazwie `przyjazne_dla_dzieci`, która jako dziedzinę ma 'ZwierzęDomowe' a jako wartość odpowiedni typ z xml schema reprezentujący wartości boolowskie (**True**, **False**) _"
      ]
    },
    {
      "cell_type": "code",
      "metadata": {
        "id": "xbU3kOfZJTn5",
        "colab": {
          "base_uri": "https://localhost:8080/"
        },
        "outputId": "392a0828-52b5-4030-eabe-2fcd7401eb3f"
      },
      "source": [
        "#tutaj wprowadź rozwiązanie zadania 7\n",
        "with onto:\n",
        "   class przyjazne_dla_dzieci(DataProperty):\n",
        "      domain = [onto['ZwierzęDomowe']]\n",
        "      range = [bool]"
      ],
      "execution_count": 33,
      "outputs": [
        {
          "output_type": "stream",
          "text": [
            "* Owlready2 * ADD TRIPLE http://www.semanticweb.org/ontologies/zwierzeta#przyjazne_dla_dzieci http://www.w3.org/1999/02/22-rdf-syntax-ns#type http://www.w3.org/2002/07/owl#DatatypeProperty\n",
            "* Owlready2 * ADD TRIPLE http://www.semanticweb.org/ontologies/zwierzeta#przyjazne_dla_dzieci http://www.w3.org/2000/01/rdf-schema#domain http://www.semanticweb.org/ontologies/zwierzeta#ZwierzęDomowe\n",
            "* Owlready2 * ADD TRIPLE http://www.semanticweb.org/ontologies/zwierzeta#przyjazne_dla_dzieci http://www.w3.org/2000/01/rdf-schema#range http://www.w3.org/2001/XMLSchema#boolean\n"
          ],
          "name": "stderr"
        }
      ]
    },
    {
      "cell_type": "markdown",
      "metadata": {
        "id": "UFSJuoWnIKkz"
      },
      "source": [
        "## Modyfikowanie encji\n",
        "Relacje pomiędzy indywiduami i ograniczenia egzystencjalne mogą być modyfikowane jak każdy inny atrybut w Pythonie. Przykładowo:\n",
        " "
      ]
    },
    {
      "cell_type": "code",
      "metadata": {
        "id": "Nko_C0PyIcd4"
      },
      "source": [
        "onto.wagaFigaro = 4"
      ],
      "execution_count": 34,
      "outputs": []
    },
    {
      "cell_type": "markdown",
      "metadata": {
        "id": "yGNDXOO3InR2"
      },
      "source": [
        "## Tworzenie encji w ramach przestrzeni nazw\n",
        "Owlready domyślnie tworzy encje w ramach przestrzeni nazw, tj. IRI encji zaczyna się od IRI ontologii.\n",
        "Możemy także utworzyć encję z innym IRI, przykładowo:\n",
        "\n"
      ]
    },
    {
      "cell_type": "code",
      "metadata": {
        "colab": {
          "base_uri": "https://localhost:8080/",
          "height": 73
        },
        "id": "YTJ6NABDKldA",
        "outputId": "c5662dc9-83d2-4816-dbef-0561d489a0d7"
      },
      "source": [
        "ro = onto.get_namespace(\"http://purl.obolibrary.org/obo/\")\n",
        "with ro:\n",
        "  class ma_rolę(ObjectProperty): pass\n",
        "ma_rolę.iri\n"
      ],
      "execution_count": 35,
      "outputs": [
        {
          "output_type": "stream",
          "text": [
            "* Owlready2 * ADD TRIPLE http://purl.obolibrary.org/obo/ma_rolę http://www.w3.org/1999/02/22-rdf-syntax-ns#type http://www.w3.org/2002/07/owl#ObjectProperty\n"
          ],
          "name": "stderr"
        },
        {
          "output_type": "execute_result",
          "data": {
            "application/vnd.google.colaboratory.intrinsic+json": {
              "type": "string"
            },
            "text/plain": [
              "'http://purl.obolibrary.org/obo/ma_rolę'"
            ]
          },
          "metadata": {
            "tags": []
          },
          "execution_count": 35
        }
      ]
    },
    {
      "cell_type": "markdown",
      "metadata": {
        "id": "PDHbFfSAK9DK"
      },
      "source": [
        "## Zmiana nazwy encji\n",
        "Atrybuty `name` i `iri` danej encji mogą zostać zmodyfikowane (refaktoring):\n"
      ]
    },
    {
      "cell_type": "code",
      "metadata": {
        "id": "kwFROBRPLNC8"
      },
      "source": [
        "ma_rolę.iri = \"http://www.semanticweb.org/ontologies/zwierzeta#ma_rolę\""
      ],
      "execution_count": 36,
      "outputs": []
    },
    {
      "cell_type": "markdown",
      "metadata": {
        "id": "sz1NllUJLXWk"
      },
      "source": [
        "## Usuwanie encji\n",
        "Funkcja globalna destroy_entity pozwala usuwać dowolne encje, np.:\n",
        "\n",
        "\n"
      ]
    },
    {
      "cell_type": "code",
      "metadata": {
        "id": "wd0otRzpNM_-",
        "colab": {
          "base_uri": "https://localhost:8080/"
        },
        "outputId": "cc3a7e3e-519e-4ef9-ed1a-adcba45ab12e"
      },
      "source": [
        "tymczasowe_zwierzę = onto.ZwierzęDomowe()\n",
        "destroy_entity(tymczasowe_zwierzę)"
      ],
      "execution_count": 37,
      "outputs": [
        {
          "output_type": "stream",
          "text": [
            "* Owlready2 * ADD TRIPLE http://www.semanticweb.org/ontologies/zwierzeta#zwierzędomowe1 http://www.w3.org/1999/02/22-rdf-syntax-ns#type http://www.w3.org/2002/07/owl#NamedIndividual\n",
            "* Owlready2 * ADD TRIPLE http://www.semanticweb.org/ontologies/zwierzeta#zwierzędomowe1 http://www.w3.org/1999/02/22-rdf-syntax-ns#type http://www.semanticweb.org/ontologies/zwierzeta#ZwierzęDomowe\n"
          ],
          "name": "stderr"
        }
      ]
    },
    {
      "cell_type": "markdown",
      "metadata": {
        "id": "DXRjVnb1NbHW"
      },
      "source": [
        "## Usuwanie ontologii\n",
        "Za pomocą metody `destroy()` można permamentnie usunąć ontologię z repozytorium \"czwórek\"."
      ]
    },
    {
      "cell_type": "markdown",
      "metadata": {
        "id": "7WtV198qNmpL"
      },
      "source": [
        "## Zapisywanie ontologii\n",
        "Za pomocą metody `save()` można zapisać ontologię na dysku, np. `onto.save(file)`, gdzie `file` może być nazwą pliku albo obiektem Pythona."
      ]
    },
    {
      "cell_type": "markdown",
      "metadata": {
        "id": "kUZrO3lON_kE"
      },
      "source": [
        "# Konstruktory i ograniczenia \n",
        "## Tworzenie konstruktorów\n",
        "W owlready, ograniczenia tworzone są za pomocą składni \"property.restriction_type(value)\", np.:\n",
        "\n",
        "\n",
        "*  property.some(Klasa) dla ograniczeń egzystencjalnych\n",
        "*  property.only(Klasa) dla ograniczeń uniwersalnych\n",
        "*  property.value(indywiduum lub dane) dla ograniczenia wartości \n",
        "* itd.\n",
        "\n",
        "Operatory logiczne (NOT, AND, OR) można uzyskać w następujący sposób:\n",
        "\n",
        "\n",
        "*   Not(Klasa)\n",
        "*   And([Klasa1, Klasa2, ...]) lub Klasa1 & Klasa2 &...\n",
        "\n",
        "Konstruktory mogą być wykorzystywane w wyrażeniach z `is_a` i `equivalent_to`. Przykład:\n",
        "\n",
        "\n",
        "\n",
        "\n",
        "\n"
      ]
    },
    {
      "cell_type": "code",
      "metadata": {
        "colab": {
          "base_uri": "https://localhost:8080/"
        },
        "id": "xyW4OTuxPVgp",
        "outputId": "9ae75053-6d14-45d1-fd05-3c98e226ba7e"
      },
      "source": [
        "with onto:\n",
        "  class KotZeSchroniska(onto.Kot):\n",
        "    equivalent_to = [ onto.Kot & onto.pochodzi_z.some(onto.Schronisko) ] "
      ],
      "execution_count": 38,
      "outputs": [
        {
          "output_type": "stream",
          "text": [
            "* Owlready2 * ADD TRIPLE http://www.semanticweb.org/ontologies/zwierzeta#KotZeSchroniska http://www.w3.org/1999/02/22-rdf-syntax-ns#type http://www.w3.org/2002/07/owl#Class\n",
            "* Owlready2 * ADD TRIPLE http://www.semanticweb.org/ontologies/zwierzeta#KotZeSchroniska http://www.w3.org/2000/01/rdf-schema#subClassOf http://www.semanticweb.org/ontologies/zwierzeta#Kot\n",
            "* Owlready2 * ADD TRIPLE -17 http://www.w3.org/1999/02/22-rdf-syntax-ns#type http://www.w3.org/2002/07/owl#Restriction\n",
            "* Owlready2 * ADD TRIPLE -17 http://www.w3.org/2002/07/owl#onProperty http://www.semanticweb.org/ontologies/zwierzeta#pochodzi_z\n",
            "* Owlready2 * ADD TRIPLE -17 http://www.w3.org/2002/07/owl#someValuesFrom http://www.semanticweb.org/ontologies/zwierzeta#Schronisko\n",
            "* Owlready2 * ADD TRIPLE -18 http://www.w3.org/1999/02/22-rdf-syntax-ns#type http://www.w3.org/2002/07/owl#Class\n",
            "* Owlready2 * ADD TRIPLE -18 http://www.w3.org/2002/07/owl#intersectionOf -16\n",
            "* Owlready2 * ADD TRIPLE -16 http://www.w3.org/1999/02/22-rdf-syntax-ns#first http://www.semanticweb.org/ontologies/zwierzeta#Kot\n",
            "* Owlready2 * ADD TRIPLE -16 http://www.w3.org/1999/02/22-rdf-syntax-ns#rest -19\n",
            "* Owlready2 * ADD TRIPLE -19 http://www.w3.org/1999/02/22-rdf-syntax-ns#first -17\n",
            "* Owlready2 * ADD TRIPLE -19 http://www.w3.org/1999/02/22-rdf-syntax-ns#rest http://www.w3.org/1999/02/22-rdf-syntax-ns#nil\n",
            "* Owlready2 * ADD TRIPLE http://www.semanticweb.org/ontologies/zwierzeta#KotZeSchroniska http://www.w3.org/2002/07/owl#equivalentClass -18\n"
          ],
          "name": "stderr"
        }
      ]
    },
    {
      "cell_type": "markdown",
      "metadata": {
        "id": "VFn6rnnnP_rU"
      },
      "source": [
        "__Zadanie 8: Bazując na wynikach poprzednich zadań, utwórz klasę ZwierzęDomoweKrótkowłose, poprzez dodanie klasy 'Krótkowłose' jako podklasy klasy 'Owłosienie' i odpowiedniego ograniczenia wyrażającego to, że ZwierzęDomoweKrótkowłose ma typ owłosienia 'Krótkowłose' _"
      ]
    },
    {
      "cell_type": "code",
      "metadata": {
        "id": "1r7DrRTVQba6",
        "colab": {
          "base_uri": "https://localhost:8080/"
        },
        "outputId": "f66b0b16-7f12-4a3d-8e6e-a2c77b3c9389"
      },
      "source": [
        "#tutaj wprowadź rozwiązanie zadania 8\n",
        "with onto:\n",
        "  class Krótkowłose(onto.Owłosienie): pass\n",
        "\n",
        "with onto:\n",
        "  class ZwierzęDomoweKrótkowłose(onto.ZwierzęDomowe):\n",
        "    equivalent_to = [ onto.ZwierzęDomowe & onto.typ_owlosienia.some(onto.Krótkowłose) ] "
      ],
      "execution_count": 39,
      "outputs": [
        {
          "output_type": "stream",
          "text": [
            "* Owlready2 * ADD TRIPLE http://www.semanticweb.org/ontologies/zwierzeta#Krótkowłose http://www.w3.org/1999/02/22-rdf-syntax-ns#type http://www.w3.org/2002/07/owl#Class\n",
            "* Owlready2 * ADD TRIPLE http://www.semanticweb.org/ontologies/zwierzeta#Krótkowłose http://www.w3.org/2000/01/rdf-schema#subClassOf http://www.semanticweb.org/ontologies/zwierzeta#Owłosienie\n",
            "* Owlready2 * ADD TRIPLE http://www.semanticweb.org/ontologies/zwierzeta#ZwierzęDomoweKrótkowłose http://www.w3.org/1999/02/22-rdf-syntax-ns#type http://www.w3.org/2002/07/owl#Class\n",
            "* Owlready2 * ADD TRIPLE http://www.semanticweb.org/ontologies/zwierzeta#ZwierzęDomoweKrótkowłose http://www.w3.org/2000/01/rdf-schema#subClassOf http://www.semanticweb.org/ontologies/zwierzeta#ZwierzęDomowe\n",
            "* Owlready2 * ADD TRIPLE -21 http://www.w3.org/1999/02/22-rdf-syntax-ns#type http://www.w3.org/2002/07/owl#Restriction\n",
            "* Owlready2 * ADD TRIPLE -21 http://www.w3.org/2002/07/owl#onProperty http://www.semanticweb.org/ontologies/zwierzeta#typ_owlosienia\n",
            "* Owlready2 * ADD TRIPLE -21 http://www.w3.org/2002/07/owl#someValuesFrom http://www.semanticweb.org/ontologies/zwierzeta#Krótkowłose\n",
            "* Owlready2 * ADD TRIPLE -22 http://www.w3.org/1999/02/22-rdf-syntax-ns#type http://www.w3.org/2002/07/owl#Class\n",
            "* Owlready2 * ADD TRIPLE -22 http://www.w3.org/2002/07/owl#intersectionOf -20\n",
            "* Owlready2 * ADD TRIPLE -20 http://www.w3.org/1999/02/22-rdf-syntax-ns#first http://www.semanticweb.org/ontologies/zwierzeta#ZwierzęDomowe\n",
            "* Owlready2 * ADD TRIPLE -20 http://www.w3.org/1999/02/22-rdf-syntax-ns#rest -23\n",
            "* Owlready2 * ADD TRIPLE -23 http://www.w3.org/1999/02/22-rdf-syntax-ns#first -21\n",
            "* Owlready2 * ADD TRIPLE -23 http://www.w3.org/1999/02/22-rdf-syntax-ns#rest http://www.w3.org/1999/02/22-rdf-syntax-ns#nil\n",
            "* Owlready2 * ADD TRIPLE http://www.semanticweb.org/ontologies/zwierzeta#ZwierzęDomoweKrótkowłose http://www.w3.org/2002/07/owl#equivalentClass -22\n"
          ],
          "name": "stderr"
        }
      ]
    },
    {
      "cell_type": "markdown",
      "metadata": {
        "id": "3Nszx7eLQnXg"
      },
      "source": [
        "# Automatyczne wnioskowanie\n",
        "Funkcja `sync_reasoner()` pozwala na uruchomienie silnika wnioskującego i wydedukowaniu nowych faktów do repozytorium \"czwórek\".\n",
        "Domyślnie używany jest silnik HermiT. Możliwe jest także użycie silnika Pellet poprzez wywołanie odpowiedniej funkcji: `sync_reasoner_pellet()` (dla silnika HermiT: `sync_reasoner_hermit()`)."
      ]
    },
    {
      "cell_type": "code",
      "metadata": {
        "colab": {
          "base_uri": "https://localhost:8080/"
        },
        "id": "4ebsbPJzQ3Ol",
        "outputId": "83b2d13e-a810-4f94-fcb9-b43b406e7167"
      },
      "source": [
        "sync_reasoner()"
      ],
      "execution_count": 40,
      "outputs": [
        {
          "output_type": "stream",
          "text": [
            "* Owlready2 * Creating new ontology inferrences <http://inferrences/>.\n",
            "* Owlready2 * ADD TRIPLE http://inferrences http://www.w3.org/1999/02/22-rdf-syntax-ns#type http://www.w3.org/2002/07/owl#Ontology\n",
            "* Owlready2 * Saving world <owlready2.namespace.World object at 0x7f61061377d0> to /tmp/tmpqb6ohova...\n",
            "* Owlready2 * Running HermiT...\n",
            "    java -Xmx2000M -cp /usr/local/lib/python3.7/dist-packages/owlready2/hermit:/usr/local/lib/python3.7/dist-packages/owlready2/hermit/HermiT.jar org.semanticweb.HermiT.cli.CommandLine -c -O -D -I file:////tmp/tmpqb6ohova\n",
            "* Owlready2 * HermiT took 2.0019149780273438 seconds\n",
            "* Owlready * Reparenting zwierzeta.NowaKlasa: {owl.Thing, zwierzeta.Kot} => {zwierzeta.Kot}\n",
            "* Owlready * (NB: only changes on entities loaded in Python are shown, other changes are done but not listed)\n"
          ],
          "name": "stderr"
        }
      ]
    }
  ]
}