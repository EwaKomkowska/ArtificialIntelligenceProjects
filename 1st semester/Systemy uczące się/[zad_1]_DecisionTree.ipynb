{
  "nbformat": 4,
  "nbformat_minor": 0,
  "metadata": {
    "colab": {
      "name": "[zad 1] DecisionTree",
      "provenance": [],
      "collapsed_sections": [],
      "toc_visible": true
    },
    "kernelspec": {
      "display_name": "Python 3",
      "name": "python3"
    }
  },
  "cells": [
    {
      "cell_type": "markdown",
      "metadata": {
        "id": "z2dGNzxREk_t"
      },
      "source": [
        "Author: Ewa Komkowska, 136737"
      ]
    },
    {
      "cell_type": "markdown",
      "metadata": {
        "id": "9UsOJsqGGmpn"
      },
      "source": [
        "# Algorithm "
      ]
    },
    {
      "cell_type": "markdown",
      "metadata": {
        "id": "WWgrSDvdHB1c"
      },
      "source": [
        "### Main structure"
      ]
    },
    {
      "cell_type": "code",
      "metadata": {
        "id": "CDkErx85Edbw"
      },
      "source": [
        "import numpy as np\r\n",
        "from statistics import median\r\n",
        "\r\n",
        "class Node(object):\r\n",
        "  def __init__(self):\r\n",
        "    self.left = None \r\n",
        "    self.right = None \r\n",
        "    self.value = None\r\n",
        "    self.predict_value = None\r\n",
        "    self.predict_index = None\r\n",
        "\t\t\r\n",
        "  def perform_split(self, data, function_value):\r\n",
        "    self.value = function_value\r\n",
        "    data_to_deviation = np.zeros((len(data[0]), len(data)), dtype=float)\r\n",
        "\r\n",
        "    for i, elem_list in enumerate(data):\r\n",
        "      for index, attribute_value in enumerate(elem_list):\r\n",
        "        data_to_deviation[index][i] = attribute_value\r\n",
        "\r\n",
        "    deviation = [np.std(data_to_deviation[index]) for index in range(len(data_to_deviation))]\r\n",
        "\r\n",
        "    max_deviation = max(deviation[:-1])\r\n",
        "    deviation_index = deviation.index(max_deviation)\r\n",
        "    median_value = median(data_to_deviation[deviation_index])\r\n",
        "    \r\n",
        "    d1 = [elem for elem in data if not elem[deviation_index] < median_value]\r\n",
        "    d2 = [elem for elem in data if elem[deviation_index] < median_value]\r\n",
        "\r\n",
        "    if len(d1) > 5 or len(d2) > 5:\r\n",
        "      left_average = sum([elem[-1] for elem in d1]) / len(d1) if len(d1) else 0\r\n",
        "      right_average = sum([elem[-1] for elem in d2]) / len(d2) if len(d2) else 0\r\n",
        "\r\n",
        "      provide_value_left = sum([(left_average - elem[-1]) ** 2 for elem in data if not elem[deviation_index] < median_value])\r\n",
        "      provide_value_right = sum([(right_average - elem[-1]) ** 2 for elem in data if elem[deviation_index] < median_value])\r\n",
        "\r\n",
        "      if len(d1) > 5 and provide_value_left < function_value and left_average != 0: \r\n",
        "        self.left = Node()\r\n",
        "        self.value = left_average\r\n",
        "        self.predict_value = median_value\r\n",
        "        self.predict_index = deviation_index\r\n",
        "        self.left.perform_split(d1, provide_value_left)\r\n",
        "        \r\n",
        "        if self.left.perform_split(d1, provide_value_left) is None:\r\n",
        "            self.value = function_value\r\n",
        "            self.left = None\r\n",
        "      \r\n",
        "      if len(d2) > 5 and provide_value_right < function_value and right_average != 0: \r\n",
        "        self.right = Node()\r\n",
        "        self.value = right_average\r\n",
        "        self.predict_value = median_value\r\n",
        "        self.predict_index = deviation_index\r\n",
        "        self.right.perform_split(d2, provide_value_right)\r\n",
        "        \r\n",
        "        if self.right.perform_split(d2, provide_value_right) is None:\r\n",
        "            self.value = function_value\r\n",
        "            self.right = None\r\n",
        "    else:\r\n",
        "      self.value = sum([elem[-1] for elem in d1]) + sum([elem[-1] for elem in d2]) / (len(d1) + len(d2))\r\n",
        "\r\n",
        "    return self.value\r\n",
        "\r\n",
        "  def predict(self, example):\r\n",
        "    if self.predict_index is not None and self.predict_value is not None:\r\n",
        "      if example[self.predict_index] < self.predict_value:\r\n",
        "        if self.right is not None:\r\n",
        "          return self.right.predict(example)\r\n",
        "        else:\r\n",
        "          return self.value\r\n",
        "      elif self.left is not None:\r\n",
        "          return self.left.predict(example)\r\n",
        "\r\n",
        "    return self.value"
      ],
      "execution_count": 8,
      "outputs": []
    },
    {
      "cell_type": "markdown",
      "metadata": {
        "id": "O79V-U8EHPD9"
      },
      "source": [
        "### Read data and run algorithm"
      ]
    },
    {
      "cell_type": "code",
      "metadata": {
        "colab": {
          "base_uri": "https://localhost:8080/"
        },
        "id": "rRD5H9uUHRn5",
        "outputId": "e0a1346b-195a-4133-87ff-6a3bde0539a2"
      },
      "source": [
        "for i in range(11,12):\r\n",
        "  id = str(i)\r\n",
        "  data = []\r\n",
        "  y = [line.strip() for line in open('sample_data/' + id + '-Y.csv')]\r\n",
        "  for i, line in enumerate(open('sample_data/' + id + '-X.csv')):\r\n",
        "    if i == 0:\r\n",
        "      continue\r\n",
        "    x = [float(j) for j in line.strip().split(',')]\r\n",
        "    nAttr = len(x)\r\n",
        "    x.append(float(y[i]))\r\n",
        "    data.append(x)\r\n",
        "  print('Data load complete!')\r\n",
        "  tree_root = Node()\r\n",
        "  tree_root.perform_split(data, 99999999)\r\n",
        "  print('Training complete!')\r\n",
        "\r\n",
        "  with open('final/' + id + '.csv', 'w') as f:\r\n",
        "    for i, line in enumerate(open('sample_data/' + id + '-test.csv')):\r\n",
        "      if i == 0:\r\n",
        "        continue\r\n",
        "      x = [float(j) for j in line.strip().split(',')]\r\n",
        "      y = tree_root.predict(x)\r\n",
        "      f.write(str(y))\r\n",
        "      f.write('\\n')"
      ],
      "execution_count": null,
      "outputs": [
        {
          "output_type": "stream",
          "text": [
            "Data load complete!\n"
          ],
          "name": "stdout"
        }
      ]
    }
  ]
}